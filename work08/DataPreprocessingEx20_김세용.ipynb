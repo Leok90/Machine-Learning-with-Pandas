{
 "cells": [
  {
   "cell_type": "code",
   "execution_count": 1,
   "metadata": {},
   "outputs": [
    {
     "name": "stdout",
     "output_type": "stream",
     "text": [
      "(398, 9) \n",
      "\n",
      "      0  1      2      3       4     5   6  7                          8\n",
      "0  18.0  8  307.0  130.0  3504.0  12.0  70  1  chevrolet chevelle malibu\n",
      "1  15.0  8  350.0  165.0  3693.0  11.5  70  1          buick skylark 320\n",
      "2  18.0  8  318.0  150.0  3436.0  11.0  70  1         plymouth satellite \n",
      "\n"
     ]
    },
    {
     "data": {
      "text/html": [
       "<div>\n",
       "<style scoped>\n",
       "    .dataframe tbody tr th:only-of-type {\n",
       "        vertical-align: middle;\n",
       "    }\n",
       "\n",
       "    .dataframe tbody tr th {\n",
       "        vertical-align: top;\n",
       "    }\n",
       "\n",
       "    .dataframe thead th {\n",
       "        text-align: right;\n",
       "    }\n",
       "</style>\n",
       "<table border=\"1\" class=\"dataframe\">\n",
       "  <thead>\n",
       "    <tr style=\"text-align: right;\">\n",
       "      <th></th>\n",
       "      <th>mpg</th>\n",
       "      <th>cylinders</th>\n",
       "      <th>displacement</th>\n",
       "      <th>horsepower</th>\n",
       "      <th>weight</th>\n",
       "      <th>acceleration</th>\n",
       "      <th>model_year</th>\n",
       "      <th>origin</th>\n",
       "      <th>name</th>\n",
       "    </tr>\n",
       "  </thead>\n",
       "  <tbody>\n",
       "    <tr>\n",
       "      <th>0</th>\n",
       "      <td>18.0</td>\n",
       "      <td>8</td>\n",
       "      <td>307.0</td>\n",
       "      <td>130.0</td>\n",
       "      <td>3504.0</td>\n",
       "      <td>12.0</td>\n",
       "      <td>70</td>\n",
       "      <td>1</td>\n",
       "      <td>chevrolet chevelle malibu</td>\n",
       "    </tr>\n",
       "    <tr>\n",
       "      <th>1</th>\n",
       "      <td>15.0</td>\n",
       "      <td>8</td>\n",
       "      <td>350.0</td>\n",
       "      <td>165.0</td>\n",
       "      <td>3693.0</td>\n",
       "      <td>11.5</td>\n",
       "      <td>70</td>\n",
       "      <td>1</td>\n",
       "      <td>buick skylark 320</td>\n",
       "    </tr>\n",
       "    <tr>\n",
       "      <th>2</th>\n",
       "      <td>18.0</td>\n",
       "      <td>8</td>\n",
       "      <td>318.0</td>\n",
       "      <td>150.0</td>\n",
       "      <td>3436.0</td>\n",
       "      <td>11.0</td>\n",
       "      <td>70</td>\n",
       "      <td>1</td>\n",
       "      <td>plymouth satellite</td>\n",
       "    </tr>\n",
       "  </tbody>\n",
       "</table>\n",
       "</div>"
      ],
      "text/plain": [
       "    mpg  cylinders  displacement horsepower  weight  acceleration  model_year  \\\n",
       "0  18.0          8         307.0      130.0  3504.0          12.0          70   \n",
       "1  15.0          8         350.0      165.0  3693.0          11.5          70   \n",
       "2  18.0          8         318.0      150.0  3436.0          11.0          70   \n",
       "\n",
       "   origin                       name  \n",
       "0       1  chevrolet chevelle malibu  \n",
       "1       1          buick skylark 320  \n",
       "2       1         plymouth satellite  "
      ]
     },
     "execution_count": 1,
     "metadata": {},
     "output_type": "execute_result"
    }
   ],
   "source": [
    "# 라이브러리 불러오기\n",
    "import pandas as pd\n",
    "\n",
    "# read_csv() 함수로 df 생성\n",
    "df = pd.read_csv('../dataset/mpg/auto-mpg.csv', header=None)\n",
    "print(df.shape,'\\n')\n",
    "print(df.head(3), '\\n')\n",
    "\n",
    "# 열이름을 지정\n",
    "df.columns = ['mpg', 'cylinders', 'displacement', 'horsepower',\n",
    "             'weight', 'acceleration', 'model_year', 'origin', 'name']\n",
    "df.head(3)"
   ]
  },
  {
   "cell_type": "code",
   "execution_count": 3,
   "metadata": {},
   "outputs": [
    {
     "name": "stdout",
     "output_type": "stream",
     "text": [
      "[False] \n",
      "\n"
     ]
    }
   ],
   "source": [
    "# 누락 데이터('?') 삭제\n",
    "import numpy as np\n",
    "print(df['horsepower'].isnull().unique(), '\\n')"
   ]
  },
  {
   "cell_type": "code",
   "execution_count": 4,
   "metadata": {},
   "outputs": [
    {
     "name": "stdout",
     "output_type": "stream",
     "text": [
      "mpg               25\n",
      "cylinders          4\n",
      "displacement      98\n",
      "horsepower         ?\n",
      "weight          2046\n",
      "Name: 32, dtype: object\n"
     ]
    }
   ],
   "source": [
    "idx = -1\n",
    "print(df.iloc[32, :5])"
   ]
  },
  {
   "cell_type": "code",
   "execution_count": 5,
   "metadata": {},
   "outputs": [
    {
     "name": "stdout",
     "output_type": "stream",
     "text": [
      "     mpg  cylinders  displacement horsepower  weight  acceleration  \\\n",
      "32  25.0          4          98.0          ?  2046.0          19.0   \n",
      "\n",
      "    model_year  origin        name  \n",
      "32          71       1  ford pinto  \n",
      "      mpg  cylinders  displacement horsepower  weight  acceleration  \\\n",
      "126  21.0          6         200.0          ?  2875.0          17.0   \n",
      "\n",
      "     model_year  origin           name  \n",
      "126          74       1  ford maverick  \n",
      "      mpg  cylinders  displacement horsepower  weight  acceleration  \\\n",
      "330  40.9          4          85.0          ?  1835.0          17.3   \n",
      "\n",
      "     model_year  origin                  name  \n",
      "330          80       2  renault lecar deluxe  \n",
      "      mpg  cylinders  displacement horsepower  weight  acceleration  \\\n",
      "336  23.6          4         140.0          ?  2905.0          14.3   \n",
      "\n",
      "     model_year  origin                name  \n",
      "336          80       1  ford mustang cobra  \n",
      "      mpg  cylinders  displacement horsepower  weight  acceleration  \\\n",
      "354  34.5          4         100.0          ?  2320.0          15.8   \n",
      "\n",
      "     model_year  origin         name  \n",
      "354          81       2  renault 18i  \n",
      "      mpg  cylinders  displacement horsepower  weight  acceleration  \\\n",
      "374  23.0          4         151.0          ?  3035.0          20.5   \n",
      "\n",
      "     model_year  origin            name  \n",
      "374          82       1  amc concord dl  \n"
     ]
    }
   ],
   "source": [
    "for dfChk in df['horsepower']:\n",
    "    idx += 1\n",
    "    if (dfChk == '?'):\n",
    "        print(df[idx:(idx+1)])"
   ]
  },
  {
   "cell_type": "code",
   "execution_count": 6,
   "metadata": {},
   "outputs": [
    {
     "name": "stdout",
     "output_type": "stream",
     "text": [
      "6 \n",
      "\n"
     ]
    }
   ],
   "source": [
    "print((df['horsepower']=='?').sum(), '\\n')"
   ]
  },
  {
   "cell_type": "code",
   "execution_count": 7,
   "metadata": {},
   "outputs": [
    {
     "data": {
      "text/plain": [
       "0"
      ]
     },
     "execution_count": 7,
     "metadata": {},
     "output_type": "execute_result"
    }
   ],
   "source": [
    "df['horsepower'].isnull().sum()"
   ]
  },
  {
   "cell_type": "code",
   "execution_count": 8,
   "metadata": {},
   "outputs": [
    {
     "name": "stdout",
     "output_type": "stream",
     "text": [
      "[False  True] \n",
      "\n"
     ]
    }
   ],
   "source": [
    "df['horsepower'].replace('?', np.nan, inplace=True) # '?'을 np.nan으로 변경\n",
    "print(df['horsepower'].isnull().unique(),'\\n')"
   ]
  },
  {
   "cell_type": "code",
   "execution_count": 9,
   "metadata": {},
   "outputs": [
    {
     "data": {
      "text/plain": [
       "6"
      ]
     },
     "execution_count": 9,
     "metadata": {},
     "output_type": "execute_result"
    }
   ],
   "source": [
    "df['horsepower'].isnull().sum()"
   ]
  },
  {
   "cell_type": "code",
   "execution_count": 10,
   "metadata": {},
   "outputs": [
    {
     "name": "stdout",
     "output_type": "stream",
     "text": [
      "['130.0' '165.0' '150.0' '140.0' '198.0' '220.0' '215.0' '225.0' '190.0'\n",
      " '170.0' '160.0' '95.00' '97.00' '85.00' '88.00' '46.00' '87.00' '90.00'\n",
      " '113.0' '200.0' '210.0' '193.0' '100.0' '105.0' '175.0' '153.0' '180.0'\n",
      " '110.0' '72.00' '86.00' '70.00' '76.00' '65.00' '69.00' '60.00' '80.00'\n",
      " '54.00' '208.0' '155.0' '112.0' '92.00' '145.0' '137.0' '158.0' '167.0'\n",
      " '94.00' '107.0' '230.0' '49.00' '75.00' '91.00' '122.0' '67.00' '83.00'\n",
      " '78.00' '52.00' '61.00' '93.00' '148.0' '129.0' '96.00' '71.00' '98.00'\n",
      " '115.0' '53.00' '81.00' '79.00' '120.0' '152.0' '102.0' '108.0' '68.00'\n",
      " '58.00' '149.0' '89.00' '63.00' '48.00' '66.00' '139.0' '103.0' '125.0'\n",
      " '133.0' '138.0' '135.0' '142.0' '77.00' '62.00' '132.0' '84.00' '64.00'\n",
      " '74.00' '116.0' '82.00'] \n",
      "\n"
     ]
    }
   ],
   "source": [
    "df.dropna(subset=['horsepower'], axis=0, inplace=True)\n",
    "print(df['horsepower'].unique(), '\\n')"
   ]
  },
  {
   "cell_type": "code",
   "execution_count": 11,
   "metadata": {},
   "outputs": [
    {
     "name": "stdout",
     "output_type": "stream",
     "text": [
      "[130. 165. 150. 140. 198. 220. 215. 225. 190. 170. 160.  95.  97.  85.\n",
      "  88.  46.  87.  90. 113. 200. 210. 193. 100. 105. 175. 153. 180. 110.\n",
      "  72.  86.  70.  76.  65.  69.  60.  80.  54. 208. 155. 112.  92. 145.\n",
      " 137. 158. 167.  94. 107. 230.  49.  75.  91. 122.  67.  83.  78.  52.\n",
      "  61.  93. 148. 129.  96.  71.  98. 115.  53.  81.  79. 120. 152. 102.\n",
      " 108.  68.  58. 149.  89.  63.  48.  66. 139. 103. 125. 133. 138. 135.\n",
      " 142.  77.  62. 132.  84.  64.  74. 116.  82.] \n",
      "\n"
     ]
    }
   ],
   "source": [
    "# .astype('category') 범주형 데이터로 변경\n",
    "df['horsepower'] = df['horsepower'].astype('float')\n",
    "print(df['horsepower'].unique(), '\\n')"
   ]
  }
 ],
 "metadata": {
  "kernelspec": {
   "display_name": "Python 3",
   "language": "python",
   "name": "python3"
  },
  "language_info": {
   "codemirror_mode": {
    "name": "ipython",
    "version": 3
   },
   "file_extension": ".py",
   "mimetype": "text/x-python",
   "name": "python",
   "nbconvert_exporter": "python",
   "pygments_lexer": "ipython3",
   "version": "3.6.5"
  }
 },
 "nbformat": 4,
 "nbformat_minor": 2
}
