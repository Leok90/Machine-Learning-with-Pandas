{
 "cells": [
  {
   "cell_type": "code",
   "execution_count": 3,
   "metadata": {},
   "outputs": [],
   "source": [
    "# 5.15_time_series.py\n",
    "#라이브러리 불러오기\n",
    "import pandas as pd\n",
    "\n",
    "# read_csv() 함수로 CSV 파일을 가져와서 df로 변환\n",
    "df = pd.read_csv('../dataset/stock-data.csv')\n",
    "\n",
    "# 문자열 데이터(시리즈 객체)를 판다스 Timestamp로 변환\n",
    "df['new_Date'] = pd.to_datetime(df['Date']) # df에 새로운 열로 추가"
   ]
  },
  {
   "cell_type": "code",
   "execution_count": 4,
   "metadata": {},
   "outputs": [],
   "source": [
    "# 시계열 값으로 변환된 열을 새로운 행 인덱스로 지정. 기존 날짜 열은 삭제\n",
    "df.set_index('new_Date', inplace=True)\n",
    "df.drop('Date', axis=1, inplace=True)"
   ]
  },
  {
   "cell_type": "code",
   "execution_count": 5,
   "metadata": {},
   "outputs": [
    {
     "name": "stdout",
     "output_type": "stream",
     "text": [
      "2018-12-25 00:00:00 \n",
      "\n",
      "            Close  Start   High    Low  Volume time_delta\n",
      "new_Date                                                 \n",
      "2018-07-02  10100  10850  10900  10000  137977   176 days\n",
      "2018-06-29  10700  10550  10900   9990  170253   179 days\n",
      "2018-06-28  10400  10900  10950  10150  155769   180 days\n",
      "2018-06-27  10900  10800  11050  10500  133548   181 days\n",
      "2018-06-26  10800  10900  11000  10700   63039   182 days\n",
      "            Close  Start   High    Low  Volume\n",
      "time_delta                                    \n",
      "176 days    10100  10850  10900  10000  137977\n",
      "179 days    10700  10550  10900   9990  170253\n",
      "180 days    10400  10900  10950  10150  155769\n",
      "181 days    10900  10800  11050  10500  133548\n",
      "182 days    10800  10900  11000  10700   63039\n",
      "183 days    11150  11400  11450  11000   55519\n",
      "186 days    11300  11250  11450  10750  134805\n",
      "187 days    11200  11350  11750  11200  133002\n",
      "188 days    11550  11200  11600  10900  308596\n",
      "189 days    11300  11850  11950  11300  180656\n",
      "            Close  Start   High    Low  Volume\n",
      "time_delta                                    \n",
      "180 days    10400  10900  10950  10150  155769\n",
      "181 days    10900  10800  11050  10500  133548\n",
      "182 days    10800  10900  11000  10700   63039\n",
      "183 days    11150  11400  11450  11000   55519\n",
      "186 days    11300  11250  11450  10750  134805\n",
      "187 days    11200  11350  11750  11200  133002\n",
      "188 days    11550  11200  11600  10900  308596\n",
      "189 days    11300  11850  11950  11300  180656\n"
     ]
    }
   ],
   "source": [
    "# 시간 간격 계산. 최근 180일 ~ 189일 사이의 값들만 선택하기\n",
    "today = pd.to_datetime('2018-12-25')  # 기준일 생성\n",
    "print(today, '\\n')\n",
    "df['time_delta'] = today - df.index  # 날짜 차이 계산\n",
    "print(df.head(5))\n",
    "df.set_index('time_delta', inplace=True)  # 행 인덱스로 지정\n",
    "print(df.head(10))\n",
    "df_180 = df['180 days':'189 days']\n",
    "print(df_180)"
   ]
  }
 ],
 "metadata": {
  "kernelspec": {
   "display_name": "Python 3",
   "language": "python",
   "name": "python3"
  },
  "language_info": {
   "codemirror_mode": {
    "name": "ipython",
    "version": 3
   },
   "file_extension": ".py",
   "mimetype": "text/x-python",
   "name": "python",
   "nbconvert_exporter": "python",
   "pygments_lexer": "ipython3",
   "version": "3.6.5"
  }
 },
 "nbformat": 4,
 "nbformat_minor": 2
}
