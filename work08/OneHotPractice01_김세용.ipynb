{
 "cells": [
  {
   "cell_type": "code",
   "execution_count": 4,
   "metadata": {},
   "outputs": [
    {
     "name": "stdout",
     "output_type": "stream",
     "text": [
      "   Apple  LG  Samsung\n",
      "0      1   0        0\n",
      "1      0   0        1\n",
      "2      0   1        0\n",
      "3      0   0        1\n"
     ]
    }
   ],
   "source": [
    "# 실습 01\n",
    "# Pandas 원핫 인코딩\n",
    "import pandas as pd\n",
    "\n",
    "data_dic = {'label': ['Apple', 'Samsung', 'LG', 'Samsung']}\n",
    "df = pd.DataFrame(data_dic)\n",
    "\n",
    "bin_names = ['Apple', 'Samsung', 'LG']\n",
    "\n",
    "label_dummies = pd.get_dummies(df['label'])\n",
    "print(label_dummies)"
   ]
  },
  {
   "cell_type": "code",
   "execution_count": 6,
   "metadata": {},
   "outputs": [
    {
     "name": "stdout",
     "output_type": "stream",
     "text": [
      "[0 2 1 2]\n"
     ]
    }
   ],
   "source": [
    "# 실습02\n",
    "# sklearn 원핫 인코딩\n",
    "from sklearn import preprocessing\n",
    "\n",
    "label_encoder = preprocessing.LabelEncoder()\n",
    "onehot_encoder = preprocessing.OneHotEncoder()\n",
    "\n",
    "data_dic = {'label': ['Apple', 'Samsung', 'LG', 'Samsung']}\n",
    "df = pd.DataFrame(data_dic)\n",
    "\n",
    "onehot_labeled = label_encoder.fit_transform(df['label'])\n",
    "print(onehot_labeled)"
   ]
  },
  {
   "cell_type": "code",
   "execution_count": 7,
   "metadata": {},
   "outputs": [
    {
     "name": "stdout",
     "output_type": "stream",
     "text": [
      "[[0]\n",
      " [2]\n",
      " [1]\n",
      " [2]]\n"
     ]
    }
   ],
   "source": [
    "onehot_reshaped = onehot_labeled.reshape(len(onehot_labeled), 1)\n",
    "print(onehot_reshaped)"
   ]
  },
  {
   "cell_type": "code",
   "execution_count": 8,
   "metadata": {},
   "outputs": [
    {
     "name": "stdout",
     "output_type": "stream",
     "text": [
      "  (0, 0)\t1.0\n",
      "  (1, 2)\t1.0\n",
      "  (2, 1)\t1.0\n",
      "  (3, 2)\t1.0\n"
     ]
    }
   ],
   "source": [
    "onehot_fitted = onehot_encoder.fit_transform(onehot_reshaped)\n",
    "print(onehot_fitted)"
   ]
  }
 ],
 "metadata": {
  "kernelspec": {
   "display_name": "Python 3",
   "language": "python",
   "name": "python3"
  },
  "language_info": {
   "codemirror_mode": {
    "name": "ipython",
    "version": 3
   },
   "file_extension": ".py",
   "mimetype": "text/x-python",
   "name": "python",
   "nbconvert_exporter": "python",
   "pygments_lexer": "ipython3",
   "version": "3.6.5"
  }
 },
 "nbformat": 4,
 "nbformat_minor": 2
}
