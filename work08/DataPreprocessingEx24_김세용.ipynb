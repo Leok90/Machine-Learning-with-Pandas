{
 "cells": [
  {
   "cell_type": "code",
   "execution_count": 2,
   "metadata": {},
   "outputs": [
    {
     "name": "stdout",
     "output_type": "stream",
     "text": [
      "(398, 9) \n",
      "\n",
      "      0  1      2      3       4     5   6  7                          8\n",
      "0  18.0  8  307.0  130.0  3504.0  12.0  70  1  chevrolet chevelle malibu\n",
      "1  15.0  8  350.0  165.0  3693.0  11.5  70  1          buick skylark 320\n",
      "2  18.0  8  318.0  150.0  3436.0  11.0  70  1         plymouth satellite \n",
      "\n"
     ]
    },
    {
     "data": {
      "text/plain": [
       "array([130., 165., 150., 140., 198., 220., 215., 225., 190., 170., 160.,\n",
       "        95.,  97.,  85.,  88.,  46.,  87.,  90., 113., 200., 210., 193.,\n",
       "       100., 105., 175., 153., 180., 110.,  72.,  86.,  70.,  76.,  65.,\n",
       "        69.,  60.,  80.,  54., 208., 155., 112.,  92., 145., 137., 158.,\n",
       "       167.,  94., 107., 230.,  49.,  75.,  91., 122.,  67.,  83.,  78.,\n",
       "        52.,  61.,  93., 148., 129.,  96.,  71.,  98., 115.,  53.,  81.,\n",
       "        79., 120., 152., 102., 108.,  68.,  58., 149.,  89.,  63.,  48.,\n",
       "        66., 139., 103., 125., 133., 138., 135., 142.,  77.,  62., 132.,\n",
       "        84.,  64.,  74., 116.,  82.])"
      ]
     },
     "execution_count": 2,
     "metadata": {},
     "output_type": "execute_result"
    }
   ],
   "source": [
    "# 라이브러리 불러오기\n",
    "import pandas as pd\n",
    "import numpy as np \n",
    "\n",
    "# read_csv() 함수로 df 생성\n",
    "df = pd.read_csv('../dataset/mpg/auto-mpg.csv', header=None)\n",
    "print(df.shape,'\\n')\n",
    "print(df.head(3), '\\n')\n",
    "\n",
    "# 열이름을 지정\n",
    "df.columns = ['mpg', 'cylinders', 'displacement', 'horsepower',\n",
    "             'weight', 'acceleration', 'model_year', 'origin', 'name']\n",
    "\n",
    "# horsepower 열의 누락 데이터('?') 삭제하고 실수형으로 변환\n",
    "df['horsepower'].replace('?', np.nan, inplace=True) # '?'을 np.nan으로 변경\n",
    "df.dropna(subset=['horsepower'], axis=0, inplace=True) # 누락데이터 행을 삭제\n",
    "df['horsepower'] = df['horsepower'].astype('float') # 문자열을 실수형으로 변환\n",
    "df['horsepower'].unique()"
   ]
  },
  {
   "cell_type": "code",
   "execution_count": 3,
   "metadata": {},
   "outputs": [
    {
     "name": "stdout",
     "output_type": "stream",
     "text": [
      "392\n",
      "4 \t [ 46.         107.33333333 168.66666667 230.        ] \t [257 103  32] \n",
      "\n"
     ]
    },
    {
     "data": {
      "text/plain": [
       "(array([257, 103,  32], dtype=int64),\n",
       " array([ 46.        , 107.33333333, 168.66666667, 230.        ]))"
      ]
     },
     "execution_count": 3,
     "metadata": {},
     "output_type": "execute_result"
    }
   ],
   "source": [
    "# np.histogram 함수로 3개의 bin으로 나누는 경계 값의 리스트 구하기\n",
    "print(df['horsepower'].size)\n",
    "count, bin_dividers = np.histogram(df['horsepower'], bins=3)\n",
    "\n",
    "print(bin_dividers.size, '\\t', bin_dividers, '\\t', count, '\\n')\n",
    "\n",
    "np.histogram(df['horsepower'], bins=3)"
   ]
  },
  {
   "cell_type": "code",
   "execution_count": 4,
   "metadata": {},
   "outputs": [
    {
     "name": "stdout",
     "output_type": "stream",
     "text": [
      "    horsepower hp_bin\n",
      "0        130.0   보통출력\n",
      "1        165.0   보통출력\n",
      "2        150.0   보통출력\n",
      "3        150.0   보통출력\n",
      "4        140.0   보통출력\n",
      "5        198.0    고출력\n",
      "6        220.0    고출력\n",
      "7        215.0    고출력\n",
      "8        225.0    고출력\n",
      "9        190.0    고출력\n",
      "10       170.0    고출력\n",
      "11       160.0   보통출력\n",
      "12       150.0   보통출력\n",
      "13       225.0    고출력\n",
      "14        95.0    저출력\n",
      "     horsepower hp_bin\n",
      "383        67.0    저출력\n",
      "384        67.0    저출력\n",
      "385        67.0    저출력\n",
      "386       110.0   보통출력\n",
      "387        85.0    저출력\n",
      "388        92.0    저출력\n",
      "389       112.0   보통출력\n",
      "390        96.0    저출력\n",
      "391        84.0    저출력\n",
      "392        90.0    저출력\n",
      "393        86.0    저출력\n",
      "394        52.0    저출력\n",
      "395        84.0    저출력\n",
      "396        79.0    저출력\n",
      "397        82.0    저출력\n"
     ]
    }
   ],
   "source": [
    "# 3개의 bin에 이름 지정\n",
    "bin_names = ['저출력', '보통출력', '고출력']\n",
    "\n",
    "# pd.cut 함수로 각 데이터를 3개의 bin에 할당\n",
    "df['hp_bin'] = pd.cut(x=df['horsepower'],  # 데이터 배열\n",
    "                     bins = bin_dividers,  # 경계 값 리스트\n",
    "                     labels = bin_names,  # bin 이름\n",
    "                     include_lowest = True)  # 첫 경계값 포함\n",
    "\n",
    "# horsepower 열, hp_bin 열의 첫 15행을 출력\n",
    "print(df[['horsepower', 'hp_bin']].head(15))\n",
    "print(df[['horsepower', 'hp_bin']].tail(15))"
   ]
  }
 ],
 "metadata": {
  "kernelspec": {
   "display_name": "Python 3",
   "language": "python",
   "name": "python3"
  },
  "language_info": {
   "codemirror_mode": {
    "name": "ipython",
    "version": 3
   },
   "file_extension": ".py",
   "mimetype": "text/x-python",
   "name": "python",
   "nbconvert_exporter": "python",
   "pygments_lexer": "ipython3",
   "version": "3.6.5"
  }
 },
 "nbformat": 4,
 "nbformat_minor": 2
}
