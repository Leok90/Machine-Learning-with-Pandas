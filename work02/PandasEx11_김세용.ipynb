{
 "cells": [
  {
   "cell_type": "code",
   "execution_count": 1,
   "metadata": {},
   "outputs": [
    {
     "name": "stdout",
     "output_type": "stream",
     "text": [
      "    수학  영어   음악   체육\n",
      "서준  90  98   85  100\n",
      "우현  80  89   95   90\n",
      "인아  70  95  100   90 \n",
      "\n",
      "수학     90\n",
      "영어     98\n",
      "음악     85\n",
      "체육    100\n",
      "Name: 서준, dtype: int64 \n",
      "\n",
      "수학     90\n",
      "영어     98\n",
      "음악     85\n",
      "체육    100\n",
      "Name: 서준, dtype: int64 \n",
      "\n"
     ]
    }
   ],
   "source": [
    "import pandas as pd\n",
    "\n",
    "# DataFrame() 함수로 데이터프레임 변환. 변수 df에 저장\n",
    "exam_data = {'수학':[90,80,70], '영어':[98,89,95],\n",
    "            '음악':[85,95,100], '체육':[100,90,90]}\n",
    "\n",
    "df = pd.DataFrame(exam_data, index=['서준','우현','인아'])\n",
    "print(df,'\\n')  # 데이터프레임 출력\n",
    "\n",
    "# 행 인덱스를 사용하여 행 1개를 선택\n",
    "label1 = df.loc['서준']   # loc 인덱서 활용\n",
    "position1 = df.iloc[0]   # iloc 인덱서 활용\n",
    "print(label1, '\\n')\n",
    "print(position1, '\\n')"
   ]
  }
 ],
 "metadata": {
  "kernelspec": {
   "display_name": "Python 3",
   "language": "python",
   "name": "python3"
  },
  "language_info": {
   "codemirror_mode": {
    "name": "ipython",
    "version": 3
   },
   "file_extension": ".py",
   "mimetype": "text/x-python",
   "name": "python",
   "nbconvert_exporter": "python",
   "pygments_lexer": "ipython3",
   "version": "3.6.5"
  }
 },
 "nbformat": 4,
 "nbformat_minor": 2
}
