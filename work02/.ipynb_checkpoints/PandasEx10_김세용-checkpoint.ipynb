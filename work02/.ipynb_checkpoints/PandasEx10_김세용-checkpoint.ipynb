{
 "cells": [
  {
   "cell_type": "code",
   "execution_count": 1,
   "metadata": {},
   "outputs": [],
   "source": [
    "# numpy & pandas 함수별 axis 옵션 차이 [통일 안됨]\n",
    "# 코딩시 axis 옵션이 반대로 작동하는 경우 정리"
   ]
  },
  {
   "cell_type": "code",
   "execution_count": 17,
   "metadata": {},
   "outputs": [
    {
     "name": "stdout",
     "output_type": "stream",
     "text": [
      "[[1 2 3]\n",
      " [4 5 6]\n",
      " [7 8 9]] \n",
      "\n",
      "[[4 5 6]\n",
      " [7 8 9]] \n",
      "\n",
      "[[2 3]\n",
      " [5 6]\n",
      " [8 9]]\n"
     ]
    }
   ],
   "source": [
    "# delete와 drop\n",
    "# delete, drop 에서는 0 axis가 행이고, 1 axis가 열이 된다.\n",
    "import numpy as np\n",
    "import pandas as pd\n",
    "\n",
    "arr = np.array([[1,2,3],[4,5,6],[7,8,9]])\n",
    "df = pd.DataFrame(arr)\n",
    "\n",
    "print(arr,'\\n')\n",
    "\n",
    "print(np.delete(arr,0,axis = 0),'\\n')\n",
    "print(np.delete(arr,0,axis = 1))"
   ]
  },
  {
   "cell_type": "code",
   "execution_count": 3,
   "metadata": {},
   "outputs": [
    {
     "name": "stdout",
     "output_type": "stream",
     "text": [
      "   0  1  2\n",
      "1  4  5  6\n",
      "2  7  8  9\n",
      "   1  2\n",
      "0  2  3\n",
      "1  5  6\n",
      "2  8  9\n"
     ]
    }
   ],
   "source": [
    "print(df.drop(0, axis = 0))\n",
    "print(df.drop(0, axis = 1))"
   ]
  },
  {
   "cell_type": "code",
   "execution_count": 14,
   "metadata": {},
   "outputs": [
    {
     "name": "stdout",
     "output_type": "stream",
     "text": [
      "[[1 2 3]\n",
      " [4 5 6]\n",
      " [7 8 9]] \n",
      "\n",
      "[12 15 18] \n",
      "\n",
      "[ 6 15 24] \n",
      "\n",
      "\n",
      "0    12\n",
      "1    15\n",
      "2    18\n",
      "dtype: int64 \n",
      "\n",
      "0     6\n",
      "1    15\n",
      "2    24\n",
      "dtype: int64\n"
     ]
    }
   ],
   "source": [
    "# sum, apply 함수 경우\n",
    "# sum에서는 0 axis는 열을 의미하고, 1 axis는 행을 의미\n",
    "import numpy as np\n",
    "import pandas as pd\n",
    "\n",
    "arr = np.array([[1,2,3],[4,5,6],[7,8,9]])\n",
    "df = pd.DataFrame(arr)\n",
    "\n",
    "print(arr,\"\\n\")\n",
    "\n",
    "print(arr.sum(axis = 0), '\\n')\n",
    "print(arr.sum(axis = 1), '\\n\\n')\n",
    "\n",
    "print(df.sum(axis = 0), '\\n')\n",
    "print(df.sum(axis = 1))"
   ]
  }
 ],
 "metadata": {
  "kernelspec": {
   "display_name": "Python 3",
   "language": "python",
   "name": "python3"
  },
  "language_info": {
   "codemirror_mode": {
    "name": "ipython",
    "version": 3
   },
   "file_extension": ".py",
   "mimetype": "text/x-python",
   "name": "python",
   "nbconvert_exporter": "python",
   "pygments_lexer": "ipython3",
   "version": "3.6.5"
  }
 },
 "nbformat": 4,
 "nbformat_minor": 2
}
