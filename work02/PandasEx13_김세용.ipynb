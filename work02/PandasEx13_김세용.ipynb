{
 "cells": [
  {
   "cell_type": "code",
   "execution_count": 1,
   "metadata": {},
   "outputs": [
    {
     "name": "stdout",
     "output_type": "stream",
     "text": [
      "    수학  영어   음악   체육\n",
      "서준  90  98   85  100\n",
      "우현  80  89   95   90\n",
      "인아  70  95  100   90 \n",
      "\n",
      "     음악   체육\n",
      "서준   85  100\n",
      "우현   95   90\n",
      "인아  100   90 \n",
      "\n",
      "<class 'pandas.core.frame.DataFrame'> \n",
      "\n",
      "    수학\n",
      "서준  90\n",
      "우현  80\n",
      "인아  70 \n",
      "\n",
      "<class 'pandas.core.frame.DataFrame'>\n"
     ]
    }
   ],
   "source": [
    "import pandas as pd\n",
    "\n",
    "# DataFrame() 함수로 데이터프레임 변환. 변수 df에 저장\n",
    "exam_data = {'수학':[90,80,70], '영어':[98,89,95],\n",
    "            '음악':[85,95,100], '체육':[100,90,90]}\n",
    "\n",
    "df = pd.DataFrame(exam_data, index=['서준','우현','인아'])\n",
    "print(df,'\\n')  # 데이터프레임 출력\n",
    "\n",
    "# '음악', '체육' 점수 데이터를 선택. 변수 music_gym에 저장\n",
    "music_gym = df[['음악','체육']]\n",
    "print(music_gym, '\\n')\n",
    "print(type(music_gym), '\\n')\n",
    "\n",
    "# '수학' 점수 데이터만 선택. 변수 math2에 저장\n",
    "math2 = df[['수학']]\n",
    "print(math2, '\\n')\n",
    "print(type(math2))"
   ]
  }
 ],
 "metadata": {
  "kernelspec": {
   "display_name": "Python 3",
   "language": "python",
   "name": "python3"
  },
  "language_info": {
   "codemirror_mode": {
    "name": "ipython",
    "version": 3
   },
   "file_extension": ".py",
   "mimetype": "text/x-python",
   "name": "python",
   "nbconvert_exporter": "python",
   "pygments_lexer": "ipython3",
   "version": "3.6.5"
  }
 },
 "nbformat": 4,
 "nbformat_minor": 2
}
