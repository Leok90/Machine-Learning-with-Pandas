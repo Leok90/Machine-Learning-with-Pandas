{
 "cells": [
  {
   "cell_type": "code",
   "execution_count": 3,
   "metadata": {},
   "outputs": [
    {
     "name": "stdout",
     "output_type": "stream",
     "text": [
      "    age     fare\n",
      "0  22.0   7.2500\n",
      "1  38.0  71.2833\n",
      "2  26.0   7.9250\n",
      "3  35.0  53.1000\n",
      "4  35.0   8.0500 \n",
      "\n",
      "              age        fare\n",
      "count  714.000000  891.000000\n",
      "mean    29.699118   32.204208\n",
      "std     14.526497   49.693429\n",
      "min      0.420000    0.000000\n",
      "25%     20.125000    7.910400\n",
      "50%     28.000000   14.454200\n",
      "75%     38.000000   31.000000\n",
      "max     80.000000  512.329200 \n",
      "\n",
      "age      79.5800\n",
      "fare    512.3292\n",
      "dtype: float64 \n",
      "\n",
      "<class 'pandas.core.series.Series'>\n"
     ]
    }
   ],
   "source": [
    "# 6.3_df_apply_isnull\n",
    "# 라이브러리 불러오기\n",
    "import seaborn as sns\n",
    "\n",
    "\n",
    "# titanic 데이터셋에서 age, fare 2개 열을 선택하여 데이터프레임 만들기\n",
    "titanic = sns.load_dataset('titanic', engine='python')\n",
    "df = titanic.loc[:, ['age', 'fare']]\n",
    "print(df.head(), '\\n')\n",
    "print(df.describe(), '\\n')\n",
    "\n",
    "# 사용자 함수 정의\n",
    "def min_max(x): # 최대값 - 최소값\n",
    "    return x.max() - x.min()\n",
    "\n",
    "# 데이터프레임의 각 열을 인수로 전달하면 시리즈를 반환\n",
    "result = df.apply(min_max) # 기본값 axis=0\n",
    "print(result, '\\n')\n",
    "print(type(result))"
   ]
  }
 ],
 "metadata": {
  "kernelspec": {
   "display_name": "Python 3",
   "language": "python",
   "name": "python3"
  },
  "language_info": {
   "codemirror_mode": {
    "name": "ipython",
    "version": 3
   },
   "file_extension": ".py",
   "mimetype": "text/x-python",
   "name": "python",
   "nbconvert_exporter": "python",
   "pygments_lexer": "ipython3",
   "version": "3.6.5"
  }
 },
 "nbformat": 4,
 "nbformat_minor": 2
}
