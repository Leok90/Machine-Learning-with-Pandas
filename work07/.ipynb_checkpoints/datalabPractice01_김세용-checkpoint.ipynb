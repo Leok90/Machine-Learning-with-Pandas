{
 "cells": [
  {
   "cell_type": "code",
   "execution_count": 1,
   "metadata": {},
   "outputs": [
    {
     "data": {
      "text/plain": [
       "<Figure size 640x480 with 1 Axes>"
      ]
     },
     "metadata": {},
     "output_type": "display_data"
    }
   ],
   "source": [
    "import matplotlib.pyplot as plt\n",
    "import numpy as np\n",
    "\n",
    "x = np.arange(11)\n",
    "y = x * 3\n",
    "\n",
    "plt.plot(x, y)\n",
    "plt.grid()\n",
    "plt.show()"
   ]
  },
  {
   "cell_type": "code",
   "execution_count": 2,
   "metadata": {},
   "outputs": [
    {
     "name": "stdout",
     "output_type": "stream",
     "text": [
      "sheetnames : ['개요', 'Sheet1']\n",
      "First Sheet's A1 value : 날짜\n",
      "오렌지\n"
     ]
    }
   ],
   "source": [
    "# 연습01_데이터 불러오기 OpenPyXl\n",
    "import openpyxl\n",
    "wb = openpyxl.load_workbook('../dataset/datalabPractice01Su.xlsx')\n",
    "\n",
    "if wb.sheetnames:\n",
    "    print('sheetnames : {}'.format(wb.sheetnames))\n",
    "    sheet = wb[wb.sheetnames[0]]\n",
    "    # print(sheet['A1'].value)\n",
    "    print(\"First Sheet\\'s A1 value : {}\".format(sheet['A1'].value))\n",
    "\n",
    "print(sheet['B1'].value)"
   ]
  },
  {
   "cell_type": "code",
   "execution_count": 43,
   "metadata": {},
   "outputs": [
    {
     "ename": "AttributeError",
     "evalue": "'ExcelFile' object has no attribute 'sheet_name'",
     "output_type": "error",
     "traceback": [
      "\u001b[1;31m---------------------------------------------------------------------------\u001b[0m",
      "\u001b[1;31mAttributeError\u001b[0m                            Traceback (most recent call last)",
      "\u001b[1;32m<ipython-input-43-62414c9b2947>\u001b[0m in \u001b[0;36m<module>\u001b[1;34m()\u001b[0m\n\u001b[0;32m      6\u001b[0m \u001b[1;31m# dfl = pd.ExcelFile('../dataset/datalabPractice01Su.xlsx')\u001b[0m\u001b[1;33m\u001b[0m\u001b[1;33m\u001b[0m\u001b[0m\n\u001b[0;32m      7\u001b[0m \u001b[1;33m\u001b[0m\u001b[0m\n\u001b[1;32m----> 8\u001b[1;33m \u001b[0msheets\u001b[0m \u001b[1;33m=\u001b[0m \u001b[0mdfl\u001b[0m\u001b[1;33m.\u001b[0m\u001b[0msheet_name\u001b[0m  \u001b[1;31m# see all sheet names\u001b[0m\u001b[1;33m\u001b[0m\u001b[0m\n\u001b[0m\u001b[0;32m      9\u001b[0m \u001b[1;33m\u001b[0m\u001b[0m\n\u001b[0;32m     10\u001b[0m \u001b[1;31m# dfl.parse(sheet_name)  # read a specific sheet to DataFrame\u001b[0m\u001b[1;33m\u001b[0m\u001b[1;33m\u001b[0m\u001b[0m\n",
      "\u001b[1;31mAttributeError\u001b[0m: 'ExcelFile' object has no attribute 'sheet_name'"
     ]
    }
   ],
   "source": [
    "# Test01_판다스 적용 데이터 불러오기. 연습01과 동일 내용 출력\n",
    "import pandas as pd\n",
    "\n",
    "df1 = pd.read_excel('../dataset/datalabPractice01Su.xlsx')\n",
    "\n",
    "# dfl = pd.ExcelFile('../dataset/datalabPractice01Su.xlsx')\n",
    "\n",
    "sheets = dfl.sheet_name  # see all sheet names\n",
    "\n"
   ]
  },
  {
   "cell_type": "code",
   "execution_count": 55,
   "metadata": {},
   "outputs": [
    {
     "data": {
      "text/html": [
       "<div>\n",
       "<style scoped>\n",
       "    .dataframe tbody tr th:only-of-type {\n",
       "        vertical-align: middle;\n",
       "    }\n",
       "\n",
       "    .dataframe tbody tr th {\n",
       "        vertical-align: top;\n",
       "    }\n",
       "\n",
       "    .dataframe thead th {\n",
       "        text-align: right;\n",
       "    }\n",
       "</style>\n",
       "<table border=\"1\" class=\"dataframe\">\n",
       "  <thead>\n",
       "    <tr style=\"text-align: right;\">\n",
       "      <th></th>\n",
       "      <th>오렌지</th>\n",
       "      <th>소나무</th>\n",
       "    </tr>\n",
       "  </thead>\n",
       "  <tbody>\n",
       "    <tr>\n",
       "      <th>0</th>\n",
       "      <td>4.55869</td>\n",
       "      <td>3.41047</td>\n",
       "    </tr>\n",
       "    <tr>\n",
       "      <th>2</th>\n",
       "      <td>3.43454</td>\n",
       "      <td>2.44423</td>\n",
       "    </tr>\n",
       "  </tbody>\n",
       "</table>\n",
       "</div>"
      ],
      "text/plain": [
       "       오렌지      소나무\n",
       "0  4.55869  3.41047\n",
       "2  3.43454  2.44423"
      ]
     },
     "execution_count": 55,
     "metadata": {},
     "output_type": "execute_result"
    }
   ],
   "source": [
    "df1.drop('날짜', axis=1, inplace=True)\n",
    "df1.iloc[[0,2],:]"
   ]
  },
  {
   "cell_type": "code",
   "execution_count": 52,
   "metadata": {},
   "outputs": [
    {
     "data": {
      "image/png": "[encoded data removed]",
      "text/plain": [
       "<Figure size 432x288 with 1 Axes>"
      ]
     },
     "metadata": {},
     "output_type": "display_data"
    }
   ],
   "source": [
    "Orange = []\n",
    "Green = []\n",
    "\n",
    "Orange = list(df1['오렌지'])\n",
    "Green = list(df1['소나무'])\n",
    "\n",
    "import matplotlib.pyplot as plt\n",
    "\n",
    "plt.plot(Green)\n",
    "plt.plot(Orange)\n",
    "plt.grid()"
   ]
  }
 ],
 "metadata": {
  "kernelspec": {
   "display_name": "Python 3",
   "language": "python",
   "name": "python3"
  },
  "language_info": {
   "codemirror_mode": {
    "name": "ipython",
    "version": 3
   },
   "file_extension": ".py",
   "mimetype": "text/x-python",
   "name": "python",
   "nbconvert_exporter": "python",
   "pygments_lexer": "ipython3",
   "version": "3.6.5"
  }
 },
 "nbformat": 4,
 "nbformat_minor": 2
}
