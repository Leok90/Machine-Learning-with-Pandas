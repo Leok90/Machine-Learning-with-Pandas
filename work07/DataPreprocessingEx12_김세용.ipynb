{
 "cells": [
  {
   "cell_type": "code",
   "execution_count": 1,
   "metadata": {},
   "outputs": [],
   "source": [
    "# 5.3_replace_nan.py\n",
    "# 라이브러리 불러오기\n",
    "import seaborn as sns\n",
    "\n",
    "# titanic 데이터셋 가져오기\n",
    "df = sns.load_dataset('titanic', engine='python')"
   ]
  },
  {
   "cell_type": "code",
   "execution_count": 2,
   "metadata": {},
   "outputs": [
    {
     "name": "stdout",
     "output_type": "stream",
     "text": [
      "Southampton    644\n",
      "Cherbourg      168\n",
      "Queenstown      77\n",
      "NaN              2\n",
      "Name: embark_town, dtype: int64 \n",
      "\n",
      "Southampton\n"
     ]
    }
   ],
   "source": [
    "# embark_town 열의 NaN값을 승선도시 중에서 가장 많이 출현한 값으로 치환하기\n",
    "print(df['embark_town'].value_counts(dropna=False), '\\n')\n",
    "\n",
    "print(df['embark_town'].value_counts(dropna=True).idxmax())"
   ]
  }
 ],
 "metadata": {
  "kernelspec": {
   "display_name": "Python 3",
   "language": "python",
   "name": "python3"
  },
  "language_info": {
   "codemirror_mode": {
    "name": "ipython",
    "version": 3
   },
   "file_extension": ".py",
   "mimetype": "text/x-python",
   "name": "python",
   "nbconvert_exporter": "python",
   "pygments_lexer": "ipython3",
   "version": "3.6.5"
  }
 },
 "nbformat": 4,
 "nbformat_minor": 2
}
