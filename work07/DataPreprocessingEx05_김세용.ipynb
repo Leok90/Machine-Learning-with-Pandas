{
 "cells": [
  {
   "cell_type": "code",
   "execution_count": 4,
   "metadata": {},
   "outputs": [
    {
     "name": "stdout",
     "output_type": "stream",
     "text": [
      "False    891\n",
      "Name: survived, dtype: int64\n",
      "False    891\n",
      "Name: pclass, dtype: int64\n",
      "False    891\n",
      "Name: sex, dtype: int64\n",
      "False    714\n",
      "True     177\n",
      "Name: age, dtype: int64\n",
      "False    891\n",
      "Name: sibsp, dtype: int64\n",
      "False    891\n",
      "Name: parch, dtype: int64\n",
      "False    891\n",
      "Name: fare, dtype: int64\n",
      "False    889\n",
      "True       2\n",
      "Name: embarked, dtype: int64\n",
      "False    891\n",
      "Name: class, dtype: int64\n",
      "False    891\n",
      "Name: who, dtype: int64\n",
      "False    891\n",
      "Name: adult_male, dtype: int64\n",
      "True     688\n",
      "False    203\n",
      "Name: deck, dtype: int64\n",
      "False    889\n",
      "True       2\n",
      "Name: embark_town, dtype: int64\n",
      "False    891\n",
      "Name: alive, dtype: int64\n",
      "False    891\n",
      "Name: alone, dtype: int64\n"
     ]
    }
   ],
   "source": [
    "# 라이브러리 불러오기\n",
    "import seaborn as sns\n",
    "\n",
    "# titanic 데이터셋 가져오기\n",
    "df = sns.load_dataset('titanic', engine='python')\n",
    "\n",
    "missing_df = df.isnull()\n",
    "\n",
    "for col in missing_df.columns:\n",
    "    missing_count = missing_df[col].value_counts()  # 각 열의 NaN 개수 파악\n",
    "    print(missing_count)"
   ]
  }
 ],
 "metadata": {
  "kernelspec": {
   "display_name": "Python 3",
   "language": "python",
   "name": "python3"
  },
  "language_info": {
   "codemirror_mode": {
    "name": "ipython",
    "version": 3
   },
   "file_extension": ".py",
   "mimetype": "text/x-python",
   "name": "python",
   "nbconvert_exporter": "python",
   "pygments_lexer": "ipython3",
   "version": "3.6.5"
  }
 },
 "nbformat": 4,
 "nbformat_minor": 2
}
