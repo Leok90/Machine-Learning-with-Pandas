{
 "cells": [
  {
   "cell_type": "code",
   "execution_count": 1,
   "metadata": {},
   "outputs": [
    {
     "name": "stdout",
     "output_type": "stream",
     "text": [
      "0    1.0\n",
      "1    NaN\n",
      "2    3.5\n",
      "3    NaN\n",
      "4    NaN\n",
      "5    NaN\n",
      "6    7.0\n",
      "dtype: float64 \n",
      "\n",
      "0    1.0\n",
      "2    3.5\n",
      "6    7.0\n",
      "dtype: float64 \n",
      "\n",
      "0    1.0\n",
      "2    3.5\n",
      "6    7.0\n",
      "dtype: float64 \n",
      "\n",
      "0    1.0\n",
      "1    0.0\n",
      "2    3.5\n",
      "3    0.0\n",
      "4    0.0\n",
      "5    0.0\n",
      "6    7.0\n",
      "dtype: float64 \n",
      "\n",
      "0    1.0\n",
      "1    1.0\n",
      "2    3.5\n",
      "3    3.5\n",
      "4    3.5\n",
      "5    NaN\n",
      "6    7.0\n",
      "dtype: float64 \n",
      "\n",
      "0    1.000000\n",
      "1    3.833333\n",
      "2    3.500000\n",
      "3    3.833333\n",
      "4    3.833333\n",
      "5    3.833333\n",
      "6    7.000000\n",
      "dtype: float64 \n",
      "\n"
     ]
    }
   ],
   "source": [
    "# 누락데이터 추가하기\n",
    "# pandas 라이브러리\n",
    "\n",
    "from pandas import Series, DataFrame\n",
    "import pandas as pd\n",
    "import numpy as np\n",
    "from numpy import nan as NA\n",
    "\n",
    "data = Series([1, NA, 3.5, NA, NA, NA, 7])\n",
    "print(data, '\\n')\n",
    "print(data.dropna(), '\\n')  # na를 제외\n",
    "print(data.dropna(how='all'), '\\n')  # 모든 row가 NA인 경우만 제외\n",
    "\n",
    "# 컬럼 방향은 axis=1 옵션 사용\n",
    "\n",
    "print(data.fillna(0), '\\n')  # NA는 0으로 치환\n",
    "\n",
    "print(data.fillna(method='ffill', limit=2), '\\n') \n",
    "# NA를 앞의 값으로 채워 넣고, 2번까지만 채워넣고, 이후는 NA 유지\n",
    "\n",
    "print(data.fillna(data.mean()), '\\n')"
   ]
  }
 ],
 "metadata": {
  "kernelspec": {
   "display_name": "Python 3",
   "language": "python",
   "name": "python3"
  },
  "language_info": {
   "codemirror_mode": {
    "name": "ipython",
    "version": 3
   },
   "file_extension": ".py",
   "mimetype": "text/x-python",
   "name": "python",
   "nbconvert_exporter": "python",
   "pygments_lexer": "ipython3",
   "version": "3.6.5"
  }
 },
 "nbformat": 4,
 "nbformat_minor": 2
}
