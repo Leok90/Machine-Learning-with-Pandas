{
 "cells": [
  {
   "cell_type": "code",
   "execution_count": 2,
   "metadata": {},
   "outputs": [
    {
     "data": {
      "text/plain": [
       "0    -0.668178\n",
       "10    0.663874\n",
       "20   -0.613244\n",
       "30    0.132292\n",
       "40   -0.060108\n",
       "50    1.771300\n",
       "60    1.042832\n",
       "70    1.287508\n",
       "80    0.657885\n",
       "90    0.227967\n",
       "dtype: float64"
      ]
     },
     "execution_count": 2,
     "metadata": {},
     "output_type": "execute_result"
    }
   ],
   "source": [
    "#매직 명령어\n",
    "#그래프를 조작할 수 있다.\n",
    "# 그래프 제목 오른쪽의 stop interaction 버튼을 누르기 전까지 그래프의 수정이\n",
    "# 가능함\n",
    "#%matplotlib nbagg\n",
    "#생성된 이후에는 조작할 수 없는 옵션\n",
    "%matplotlib inline\n",
    "import matplotlib\n",
    "import matplotlib.pyplot as plt\n",
    "import pandas as pd\n",
    "import numpy as np\n",
    "\n",
    "s = pd.Series(np.random.randn(10).cumsum(), index=np.arange(0, 100, 10))\n",
    "s"
   ]
  },
  {
   "cell_type": "code",
   "execution_count": 3,
   "metadata": {},
   "outputs": [
    {
     "data": {
      "text/plain": [
       "<matplotlib.axes._subplots.AxesSubplot at 0x2af6226c908>"
      ]
     },
     "execution_count": 3,
     "metadata": {},
     "output_type": "execute_result"
    },
    {
     "data": {
      "image/png": "[encoded data removed]",
      "text/plain": [
       "<Figure size 432x288 with 1 Axes>"
      ]
     },
     "metadata": {},
     "output_type": "display_data"
    }
   ],
   "source": [
    "# 시리즈의 인덱스(x축)와 값(y축)으로 그래프 출력\n",
    "s.plot()"
   ]
  },
  {
   "cell_type": "code",
   "execution_count": 4,
   "metadata": {},
   "outputs": [
    {
     "data": {
      "text/html": [
       "<div>\n",
       "<style scoped>\n",
       "    .dataframe tbody tr th:only-of-type {\n",
       "        vertical-align: middle;\n",
       "    }\n",
       "\n",
       "    .dataframe tbody tr th {\n",
       "        vertical-align: top;\n",
       "    }\n",
       "\n",
       "    .dataframe thead th {\n",
       "        text-align: right;\n",
       "    }\n",
       "</style>\n",
       "<table border=\"1\" class=\"dataframe\">\n",
       "  <thead>\n",
       "    <tr style=\"text-align: right;\">\n",
       "      <th></th>\n",
       "      <th>A</th>\n",
       "      <th>B</th>\n",
       "      <th>C</th>\n",
       "      <th>D</th>\n",
       "    </tr>\n",
       "  </thead>\n",
       "  <tbody>\n",
       "    <tr>\n",
       "      <th>0</th>\n",
       "      <td>0.505639</td>\n",
       "      <td>-1.033829</td>\n",
       "      <td>-1.319200</td>\n",
       "      <td>-0.387835</td>\n",
       "    </tr>\n",
       "    <tr>\n",
       "      <th>10</th>\n",
       "      <td>1.444537</td>\n",
       "      <td>0.160691</td>\n",
       "      <td>-0.717699</td>\n",
       "      <td>-1.971513</td>\n",
       "    </tr>\n",
       "    <tr>\n",
       "      <th>20</th>\n",
       "      <td>-0.590226</td>\n",
       "      <td>1.286903</td>\n",
       "      <td>0.296613</td>\n",
       "      <td>-0.820535</td>\n",
       "    </tr>\n",
       "    <tr>\n",
       "      <th>30</th>\n",
       "      <td>0.632403</td>\n",
       "      <td>0.541996</td>\n",
       "      <td>0.725061</td>\n",
       "      <td>0.371249</td>\n",
       "    </tr>\n",
       "    <tr>\n",
       "      <th>40</th>\n",
       "      <td>1.284906</td>\n",
       "      <td>-0.398457</td>\n",
       "      <td>-2.137754</td>\n",
       "      <td>-0.100121</td>\n",
       "    </tr>\n",
       "    <tr>\n",
       "      <th>50</th>\n",
       "      <td>0.726203</td>\n",
       "      <td>-0.167965</td>\n",
       "      <td>-0.227209</td>\n",
       "      <td>-1.364667</td>\n",
       "    </tr>\n",
       "    <tr>\n",
       "      <th>60</th>\n",
       "      <td>-0.186686</td>\n",
       "      <td>1.243616</td>\n",
       "      <td>0.209466</td>\n",
       "      <td>-0.044101</td>\n",
       "    </tr>\n",
       "    <tr>\n",
       "      <th>70</th>\n",
       "      <td>-0.443157</td>\n",
       "      <td>0.143503</td>\n",
       "      <td>-0.204849</td>\n",
       "      <td>0.294846</td>\n",
       "    </tr>\n",
       "    <tr>\n",
       "      <th>80</th>\n",
       "      <td>-1.772539</td>\n",
       "      <td>-1.189762</td>\n",
       "      <td>1.138905</td>\n",
       "      <td>0.253872</td>\n",
       "    </tr>\n",
       "    <tr>\n",
       "      <th>90</th>\n",
       "      <td>-0.404094</td>\n",
       "      <td>-0.123560</td>\n",
       "      <td>-0.716362</td>\n",
       "      <td>1.648878</td>\n",
       "    </tr>\n",
       "  </tbody>\n",
       "</table>\n",
       "</div>"
      ],
      "text/plain": [
       "           A         B         C         D\n",
       "0   0.505639 -1.033829 -1.319200 -0.387835\n",
       "10  1.444537  0.160691 -0.717699 -1.971513\n",
       "20 -0.590226  1.286903  0.296613 -0.820535\n",
       "30  0.632403  0.541996  0.725061  0.371249\n",
       "40  1.284906 -0.398457 -2.137754 -0.100121\n",
       "50  0.726203 -0.167965 -0.227209 -1.364667\n",
       "60 -0.186686  1.243616  0.209466 -0.044101\n",
       "70 -0.443157  0.143503 -0.204849  0.294846\n",
       "80 -1.772539 -1.189762  1.138905  0.253872\n",
       "90 -0.404094 -0.123560 -0.716362  1.648878"
      ]
     },
     "execution_count": 4,
     "metadata": {},
     "output_type": "execute_result"
    }
   ],
   "source": [
    "# 데이터프레임\n",
    "# df = pd.DataFrame(np.random.randn(10, 4).cumsum(axis=0)),\n",
    "df = pd.DataFrame(np.random.randn(10, 4),\n",
    "                columns=[\"A\", \"B\", \"C\", \"D\"],\n",
    "                index=np.arange(0, 100, 10))\n",
    "df"
   ]
  },
  {
   "cell_type": "code",
   "execution_count": 5,
   "metadata": {},
   "outputs": [
    {
     "data": {
      "text/plain": [
       "<matplotlib.axes._subplots.AxesSubplot at 0x2af626a14a8>"
      ]
     },
     "execution_count": 5,
     "metadata": {},
     "output_type": "execute_result"
    },
    {
     "data": {
      "image/png": "[encoded data removed]",
      "text/plain": [
       "<Figure size 432x288 with 1 Axes>"
      ]
     },
     "metadata": {},
     "output_type": "display_data"
    }
   ],
   "source": [
    "df.plot()"
   ]
  },
  {
   "cell_type": "code",
   "execution_count": 7,
   "metadata": {},
   "outputs": [
    {
     "data": {
      "text/plain": [
       "<matplotlib.axes._subplots.AxesSubplot at 0x2af627214a8>"
      ]
     },
     "execution_count": 7,
     "metadata": {},
     "output_type": "execute_result"
    },
    {
     "data": {
      "image/png": "[encoded data removed]",
      "text/plain": [
       "<Figure size 432x288 with 1 Axes>"
      ]
     },
     "metadata": {},
     "output_type": "display_data"
    }
   ],
   "source": [
    "#그래프를 그린 후에 제목 우측의 아이콘을 눌러야 그래프가 마무리된다. 그렇지 않\n",
    "#으면 이전에 출력된 그래프에 내용이 추가됨\n",
    "# B 컬럼만 선택하여 그래프를 출력함\n",
    "df[\"B\"].plot()"
   ]
  },
  {
   "cell_type": "code",
   "execution_count": 8,
   "metadata": {},
   "outputs": [
    {
     "data": {
      "text/plain": [
       "a    0.885810\n",
       "b    0.118695\n",
       "c    0.926771\n",
       "d    0.715173\n",
       "e    0.634843\n",
       "f    0.530795\n",
       "g    0.922469\n",
       "h    0.986231\n",
       "i    0.384340\n",
       "j    0.663298\n",
       "k    0.481228\n",
       "l    0.279191\n",
       "m    0.750055\n",
       "n    0.193567\n",
       "o    0.046018\n",
       "p    0.444633\n",
       "dtype: float64"
      ]
     },
     "execution_count": 8,
     "metadata": {},
     "output_type": "execute_result"
    }
   ],
   "source": [
    "# 막대 그래프\n",
    "# list(\"abcd...\") a,b,c,d 식으로 리스트로 만들어짐\n",
    "# 시리즈 값을 막대 그래프로 출력\n",
    "s2 = pd.Series(np.random.rand(16), index=list(\"abcdefghijklmnop\"))\n",
    "s2"
   ]
  },
  {
   "cell_type": "code",
   "execution_count": 9,
   "metadata": {},
   "outputs": [
    {
     "data": {
      "text/plain": [
       "<matplotlib.axes._subplots.AxesSubplot at 0x2af62632240>"
      ]
     },
     "execution_count": 9,
     "metadata": {},
     "output_type": "execute_result"
    },
    {
     "data": {
      "image/png": "[encoded data removed]",
      "text/plain": [
       "<Figure size 432x288 with 1 Axes>"
      ]
     },
     "metadata": {},
     "output_type": "display_data"
    }
   ],
   "source": [
    "s2.plot(kind=\"bar\")"
   ]
  },
  {
   "cell_type": "code",
   "execution_count": 10,
   "metadata": {},
   "outputs": [
    {
     "data": {
      "text/plain": [
       "<matplotlib.axes._subplots.AxesSubplot at 0x2af6270e208>"
      ]
     },
     "execution_count": 10,
     "metadata": {},
     "output_type": "execute_result"
    },
    {
     "data": {
      "image/png": "[encoded data removed]",
      "text/plain": [
       "<Figure size 432x288 with 1 Axes>"
      ]
     },
     "metadata": {},
     "output_type": "display_data"
    }
   ],
   "source": [
    "#수평 방향\n",
    "s2.plot(kind=\"barh\")"
   ]
  },
  {
   "cell_type": "code",
   "execution_count": 11,
   "metadata": {},
   "outputs": [
    {
     "data": {
      "text/html": [
       "<div>\n",
       "<style scoped>\n",
       "    .dataframe tbody tr th:only-of-type {\n",
       "        vertical-align: middle;\n",
       "    }\n",
       "\n",
       "    .dataframe tbody tr th {\n",
       "        vertical-align: top;\n",
       "    }\n",
       "\n",
       "    .dataframe thead th {\n",
       "        text-align: right;\n",
       "    }\n",
       "</style>\n",
       "<table border=\"1\" class=\"dataframe\">\n",
       "  <thead>\n",
       "    <tr style=\"text-align: right;\">\n",
       "      <th>Genus</th>\n",
       "      <th>A</th>\n",
       "      <th>B</th>\n",
       "      <th>C</th>\n",
       "      <th>D</th>\n",
       "    </tr>\n",
       "  </thead>\n",
       "  <tbody>\n",
       "    <tr>\n",
       "      <th>one</th>\n",
       "      <td>0.195667</td>\n",
       "      <td>0.747082</td>\n",
       "      <td>0.983334</td>\n",
       "      <td>0.066537</td>\n",
       "    </tr>\n",
       "    <tr>\n",
       "      <th>two</th>\n",
       "      <td>0.925096</td>\n",
       "      <td>0.698900</td>\n",
       "      <td>0.205963</td>\n",
       "      <td>0.265726</td>\n",
       "    </tr>\n",
       "    <tr>\n",
       "      <th>three</th>\n",
       "      <td>0.938946</td>\n",
       "      <td>0.656394</td>\n",
       "      <td>0.434520</td>\n",
       "      <td>0.498650</td>\n",
       "    </tr>\n",
       "    <tr>\n",
       "      <th>four</th>\n",
       "      <td>0.085628</td>\n",
       "      <td>0.588330</td>\n",
       "      <td>0.881644</td>\n",
       "      <td>0.174108</td>\n",
       "    </tr>\n",
       "    <tr>\n",
       "      <th>five</th>\n",
       "      <td>0.407529</td>\n",
       "      <td>0.131773</td>\n",
       "      <td>0.157281</td>\n",
       "      <td>0.153223</td>\n",
       "    </tr>\n",
       "    <tr>\n",
       "      <th>six</th>\n",
       "      <td>0.875013</td>\n",
       "      <td>0.306178</td>\n",
       "      <td>0.152251</td>\n",
       "      <td>0.492214</td>\n",
       "    </tr>\n",
       "  </tbody>\n",
       "</table>\n",
       "</div>"
      ],
      "text/plain": [
       "Genus         A         B         C         D\n",
       "one    0.195667  0.747082  0.983334  0.066537\n",
       "two    0.925096  0.698900  0.205963  0.265726\n",
       "three  0.938946  0.656394  0.434520  0.498650\n",
       "four   0.085628  0.588330  0.881644  0.174108\n",
       "five   0.407529  0.131773  0.157281  0.153223\n",
       "six    0.875013  0.306178  0.152251  0.492214"
      ]
     },
     "execution_count": 11,
     "metadata": {},
     "output_type": "execute_result"
    }
   ],
   "source": [
    "#데이터프레임\n",
    "df2 = pd.DataFrame(np.random.rand(6, 4),\n",
    "                index=[\"one\", \"two\", \"three\", \"four\", \"five\", \"six\"],\n",
    "                columns=pd.Index([\"A\", \"B\", \"C\", \"D\"], name=\"Genus\"))\n",
    "df2"
   ]
  },
  {
   "cell_type": "code",
   "execution_count": 12,
   "metadata": {},
   "outputs": [
    {
     "data": {
      "text/plain": [
       "<matplotlib.axes._subplots.AxesSubplot at 0x2af62783dd8>"
      ]
     },
     "execution_count": 12,
     "metadata": {},
     "output_type": "execute_result"
    },
    {
     "data": {
      "image/png": "[encoded data removed]",
      "text/plain": [
       "<Figure size 432x288 with 1 Axes>"
      ]
     },
     "metadata": {},
     "output_type": "display_data"
    }
   ],
   "source": [
    "#x축 인덱스, y축 값\n",
    "# x축 하나의 인덱스에 대해 여러개의 값이 표시됨\n",
    "df2.plot(kind=\"bar\")"
   ]
  },
  {
   "cell_type": "code",
   "execution_count": 13,
   "metadata": {},
   "outputs": [
    {
     "data": {
      "text/plain": [
       "<matplotlib.axes._subplots.AxesSubplot at 0x2af629202e8>"
      ]
     },
     "execution_count": 13,
     "metadata": {},
     "output_type": "execute_result"
    },
    {
     "data": {
      "image/png": "[encoded data removed]",
      "text/plain": [
       "<Figure size 432x288 with 1 Axes>"
      ]
     },
     "metadata": {},
     "output_type": "display_data"
    }
   ],
   "source": [
    "# 수평 방향\n",
    "# stacked=True 하나의 인덱스에 대해 한줄로 쌓아서 표시\n",
    "df2.plot(kind='barh', stacked=True)"
   ]
  },
  {
   "cell_type": "code",
   "execution_count": 14,
   "metadata": {},
   "outputs": [
    {
     "data": {
      "text/plain": [
       "0    0.172867\n",
       "1    0.892285\n",
       "2    0.104371\n",
       "3   -0.216895\n",
       "4   -1.105730\n",
       "dtype: float64"
      ]
     },
     "execution_count": 14,
     "metadata": {},
     "output_type": "execute_result"
    }
   ],
   "source": [
    "# 히스토그램: x 변수가 가질 수 있는 값의 구간, 갯수를 막대 형태로 출력\n",
    "# 히스토그램은 값만 필요하고 인덱스는 필요하지 않음\n",
    "# normal() 정규분포\n",
    "s3 = pd.Series(np.random.normal(0, 1, size=200))\n",
    "s3.head()"
   ]
  },
  {
   "cell_type": "code",
   "execution_count": 15,
   "metadata": {},
   "outputs": [
    {
     "data": {
      "text/plain": [
       "<matplotlib.axes._subplots.AxesSubplot at 0x2af629a4240>"
      ]
     },
     "execution_count": 15,
     "metadata": {},
     "output_type": "execute_result"
    },
    {
     "data": {
      "image/png": "[encoded data removed]",
      "text/plain": [
       "<Figure size 432x288 with 1 Axes>"
      ]
     },
     "metadata": {},
     "output_type": "display_data"
    }
   ],
   "source": [
    "# x축 구간은 기본값으로 10개로 설정됨\n",
    "s3.hist()"
   ]
  },
  {
   "cell_type": "code",
   "execution_count": 16,
   "metadata": {},
   "outputs": [
    {
     "data": {
      "text/plain": [
       "<matplotlib.axes._subplots.AxesSubplot at 0x2af62a2b5f8>"
      ]
     },
     "execution_count": 16,
     "metadata": {},
     "output_type": "execute_result"
    },
    {
     "data": {
      "image/png": "[encoded data removed]",
      "text/plain": [
       "<Figure size 432x288 with 1 Axes>"
      ]
     },
     "metadata": {},
     "output_type": "display_data"
    }
   ],
   "source": [
    "# x축 구간의 갯수 지정\n",
    "s3.hist(bins=50)"
   ]
  },
  {
   "cell_type": "code",
   "execution_count": 17,
   "metadata": {},
   "outputs": [
    {
     "name": "stderr",
     "output_type": "stream",
     "text": [
      "C:\\Anaconda3\\lib\\site-packages\\matplotlib\\axes\\_axes.py:6462: UserWarning: The 'normed' kwarg is deprecated, and has been replaced by the 'density' kwarg.\n",
      "  warnings.warn(\"The 'normed' kwarg is deprecated, and has been \"\n"
     ]
    },
    {
     "data": {
      "text/plain": [
       "<matplotlib.axes._subplots.AxesSubplot at 0x2af63a75898>"
      ]
     },
     "execution_count": 17,
     "metadata": {},
     "output_type": "execute_result"
    },
    {
     "data": {
      "image/png": "[encoded data removed]",
      "text/plain": [
       "<Figure size 432x288 with 1 Axes>"
      ]
     },
     "metadata": {},
     "output_type": "display_data"
    }
   ],
   "source": [
    "# normed 정규분포\n",
    "# 정규분포 : 종 모양을 가짐\n",
    "s3.hist(bins=100, normed=True)"
   ]
  },
  {
   "cell_type": "code",
   "execution_count": 18,
   "metadata": {},
   "outputs": [
    {
     "name": "stdout",
     "output_type": "stream",
     "text": [
      "[[ 1.27107048 -0.83871063]\n",
      " [ 1.38855383 -3.81910283]\n",
      " [-0.50926924 -7.66925347]\n",
      " [ 0.91226683 -1.88510909]\n",
      " [-2.05725679 -3.87108542]]\n"
     ]
    }
   ],
   "source": [
    "# 산점도 : 서로 다른 독립변수 x1, x2의 관계 파악할 때 사용\n",
    "x1 = np.random.normal(1, 1, size=(100, 1))\n",
    "x2 = np.random.normal(-2, 4, size=(100, 1))\n",
    "# concatenate 열방향으로 연결 axis=1 가로방향, axis=0 세로방향\n",
    "# 100*2 리스트가 생성됨\n",
    "X = np.concatenate((x1, x2), axis=1)\n",
    "# 첫 5행 출력\n",
    "print(X[:5])"
   ]
  },
  {
   "cell_type": "code",
   "execution_count": 19,
   "metadata": {},
   "outputs": [
    {
     "data": {
      "text/html": [
       "<div>\n",
       "<style scoped>\n",
       "    .dataframe tbody tr th:only-of-type {\n",
       "        vertical-align: middle;\n",
       "    }\n",
       "\n",
       "    .dataframe tbody tr th {\n",
       "        vertical-align: top;\n",
       "    }\n",
       "\n",
       "    .dataframe thead th {\n",
       "        text-align: right;\n",
       "    }\n",
       "</style>\n",
       "<table border=\"1\" class=\"dataframe\">\n",
       "  <thead>\n",
       "    <tr style=\"text-align: right;\">\n",
       "      <th></th>\n",
       "      <th>x1</th>\n",
       "      <th>x2</th>\n",
       "    </tr>\n",
       "  </thead>\n",
       "  <tbody>\n",
       "    <tr>\n",
       "      <th>0</th>\n",
       "      <td>1.271070</td>\n",
       "      <td>-0.838711</td>\n",
       "    </tr>\n",
       "    <tr>\n",
       "      <th>1</th>\n",
       "      <td>1.388554</td>\n",
       "      <td>-3.819103</td>\n",
       "    </tr>\n",
       "    <tr>\n",
       "      <th>2</th>\n",
       "      <td>-0.509269</td>\n",
       "      <td>-7.669253</td>\n",
       "    </tr>\n",
       "    <tr>\n",
       "      <th>3</th>\n",
       "      <td>0.912267</td>\n",
       "      <td>-1.885109</td>\n",
       "    </tr>\n",
       "    <tr>\n",
       "      <th>4</th>\n",
       "      <td>-2.057257</td>\n",
       "      <td>-3.871085</td>\n",
       "    </tr>\n",
       "  </tbody>\n",
       "</table>\n",
       "</div>"
      ],
      "text/plain": [
       "         x1        x2\n",
       "0  1.271070 -0.838711\n",
       "1  1.388554 -3.819103\n",
       "2 -0.509269 -7.669253\n",
       "3  0.912267 -1.885109\n",
       "4 -2.057257 -3.871085"
      ]
     },
     "execution_count": 19,
     "metadata": {},
     "output_type": "execute_result"
    }
   ],
   "source": [
    "df3 = pd.DataFrame(X, columns=['x1', 'x2'])\n",
    "df3.head()"
   ]
  },
  {
   "cell_type": "code",
   "execution_count": 20,
   "metadata": {},
   "outputs": [
    {
     "data": {
      "text/plain": [
       "<matplotlib.collections.PathCollection at 0x2af63d15a20>"
      ]
     },
     "execution_count": 20,
     "metadata": {},
     "output_type": "execute_result"
    },
    {
     "data": {
      "image/png": "[encoded data removed]",
      "text/plain": [
       "<Figure size 432x288 with 1 Axes>"
      ]
     },
     "metadata": {},
     "output_type": "display_data"
    }
   ],
   "source": [
    "# x1과 x2d의 상관관계\n",
    "# x1(x축), x2(y축)\n",
    "# 양의 상관관계 : 산점도가 좌측하단에서 우측상단으로\n",
    "# 음의 상관관계 : 산점도가 좌측상단에서 우측하단으로\n",
    "# 이 그래프에서는 상관관계를 찾을 수 없다\n",
    "plt.scatter(df3['x1'], df3['x2'])"
   ]
  },
  {
   "cell_type": "code",
   "execution_count": 23,
   "metadata": {},
   "outputs": [],
   "source": [
    "# 실습예제 - 데이터분석\n",
    "%matplotlib inline\n",
    "from matplotlib import rc, font_manager\n",
    "# 한글 처리를 위해 폰트 설정\n",
    "font_name = font_manager.FontProperties(fname='c:/Windows/Fonts/malgun.ttf').get_name()\n",
    "rc('font', family=font_name)"
   ]
  },
  {
   "cell_type": "code",
   "execution_count": null,
   "metadata": {},
   "outputs": [],
   "source": [
    "import csv\n",
    "from datetime import datetime\n",
    "from matplotlib import pyplot as plt\n",
    "filename = \n",
    "with open(filename) as f:\n",
    "    # 데이터 로딩\n",
    "    reader = csv.reader(f)\n",
    "    # 파일의 첫번째 행\n",
    "    header_row = next(reader)\n",
    "    dates, highs, lows = [], [], []\n",
    "    for row in reader:\n",
    "        try:\n",
    "            #strftime : 날짜를 문자열로\n",
    "            #strptime : 문자열을 날짜로\n",
    "            current_date = datetime.strptime(row[0], '%Y-%m-%d')\n",
    "            high = int(row[1])\n",
    "            low = int(row[3])\n",
    "        except ValueError:\n",
    "            print(current_date, 'missing data')\n",
    "        else:\n",
    "            dates.append(current_date)\n",
    "            highs.append(high)\n",
    "            lows.append(low)\n",
    "# 그래프 생성\n",
    "fig = plt.figure(dpi=128, figsize=(10, 6))\n",
    "\n",
    "# x축 dates, y축 highs, 색상 red, 투명도 0.5, 0.0 완전투명 ~ 1.0 완전불투명\n",
    "plt.plot(dates, highs, c='red', alpha=0.5)\n",
    "plt.plot(dates, lows, c='blue', alpha=0.5)\n",
    "\n",
    "#"
   ]
  }
 ],
 "metadata": {
  "kernelspec": {
   "display_name": "Python 3",
   "language": "python",
   "name": "python3"
  },
  "language_info": {
   "codemirror_mode": {
    "name": "ipython",
    "version": 3
   },
   "file_extension": ".py",
   "mimetype": "text/x-python",
   "name": "python",
   "nbconvert_exporter": "python",
   "pygments_lexer": "ipython3",
   "version": "3.6.5"
  }
 },
 "nbformat": 4,
 "nbformat_minor": 2
}
