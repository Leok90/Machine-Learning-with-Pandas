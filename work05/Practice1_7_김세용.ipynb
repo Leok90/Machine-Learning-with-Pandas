{
 "cells": [
  {
   "cell_type": "code",
   "execution_count": 2,
   "metadata": {},
   "outputs": [],
   "source": [
    "# pandas를 이용하여 인덱스값을 이용하여 열 선택\n",
    "import pandas as pd\n",
    "import sys\n",
    "input_file = '../work03/dataset/csv_exam.csv'\n",
    "output_file = '../work03/dataset/output7.csv'\n",
    "df = pd.read_csv(input_file)\n",
    "\n",
    "# iloc(행 인덱스 범위, 열 인덱스 범위) 인덱스 기반으로 검색\n",
    "# 컬럼 인덱스 -번과 3번만을 선택\n",
    "result = df.iloc[:, [0, 3]]\n",
    "result.to_csv(output_file, index=False)"
   ]
  }
 ],
 "metadata": {
  "kernelspec": {
   "display_name": "Python 3",
   "language": "python",
   "name": "python3"
  },
  "language_info": {
   "codemirror_mode": {
    "name": "ipython",
    "version": 3
   },
   "file_extension": ".py",
   "mimetype": "text/x-python",
   "name": "python",
   "nbconvert_exporter": "python",
   "pygments_lexer": "ipython3",
   "version": "3.6.5"
  }
 },
 "nbformat": 4,
 "nbformat_minor": 2
}
