{
 "cells": [
  {
   "cell_type": "code",
   "execution_count": 9,
   "metadata": {},
   "outputs": [],
   "source": [
    "# 특정 행 필터링\n",
    "import csv\n",
    "\n",
    "input_file = '../work03/dataset/csv_exam.csv'\n",
    "output_file = '../work03/dataset/output3.csv'\n",
    "with open(input_file, 'r', newline='') as csv_in_file:\n",
    "    with open(output_file, 'w', newline='') as csv_out_file:\n",
    "        filereader = csv.reader(csv_in_file)\n",
    "        filewriter = csv.writer(csv_out_file)\n",
    "        \n",
    "        # 한 라인을 읽음(첫 라인)\n",
    "        header = next(filereader)\n",
    "        # 한 라인을 저장(첫 라인)\n",
    "        filewriter.writerow(header)\n",
    "        \n",
    "        for row in filereader:\n",
    "            # 행의 첫번째 필드\n",
    "            class1 = str(row[1]).strip()\n",
    "            # $ 문자를 제거하고 쉼표를 제거(제거하지 않으면 float로 변환할 때, 에러 발생)\n",
    "            english = str(row[3]).strip('$').replace(',','')\n",
    "            english = str(row[3]).replace('$', '')\n",
    "            # print(class1, '/', english)\n",
    "            # class가 1반이고 english가 80 이상인 행만 선택\n",
    "            if float(class1) == 1 and float(english) >= 80:\n",
    "                # print(class1, \"/\", english)\n",
    "                filewriter.writerow(row)"
   ]
  },
  {
   "cell_type": "code",
   "execution_count": null,
   "metadata": {},
   "outputs": [],
   "source": []
  }
 ],
 "metadata": {
  "kernelspec": {
   "display_name": "Python 3",
   "language": "python",
   "name": "python3"
  },
  "language_info": {
   "codemirror_mode": {
    "name": "ipython",
    "version": 3
   },
   "file_extension": ".py",
   "mimetype": "text/x-python",
   "name": "python",
   "nbconvert_exporter": "python",
   "pygments_lexer": "ipython3",
   "version": "3.6.5"
  }
 },
 "nbformat": 4,
 "nbformat_minor": 2
}
