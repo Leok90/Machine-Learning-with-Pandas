{
 "cells": [
  {
   "cell_type": "code",
   "execution_count": 5,
   "metadata": {},
   "outputs": [
    {
     "data": {
      "text/plain": [
       "[-0.4285714285714306,\n",
       " 0.5714285714285694,\n",
       " 1.5714285714285694,\n",
       " -0.4285714285714306,\n",
       " 0.5714285714285694,\n",
       " -1.4285714285714306,\n",
       " -0.4285714285714306]"
      ]
     },
     "execution_count": 5,
     "metadata": {},
     "output_type": "execute_result"
    }
   ],
   "source": [
    "import numpy as np\n",
    "\n",
    "speed = [86,87,88,86,87,85,86]\n",
    "\n",
    "vMean = sum(speed)/len(speed)\n",
    "\n",
    "def uDeviation(val):\n",
    "    global vMean\n",
    "    return val - vMean\n",
    "\n",
    "x = list(map(uDeviation, speed))\n",
    "x"
   ]
  }
 ],
 "metadata": {
  "kernelspec": {
   "display_name": "Python 3",
   "language": "python",
   "name": "python3"
  },
  "language_info": {
   "codemirror_mode": {
    "name": "ipython",
    "version": 3
   },
   "file_extension": ".py",
   "mimetype": "text/x-python",
   "name": "python",
   "nbconvert_exporter": "python",
   "pygments_lexer": "ipython3",
   "version": "3.6.5"
  }
 },
 "nbformat": 4,
 "nbformat_minor": 2
}
