{
 "cells": [
  {
   "cell_type": "code",
   "execution_count": 5,
   "metadata": {
    "scrolled": true
   },
   "outputs": [
    {
     "name": "stdout",
     "output_type": "stream",
     "text": [
      "id,class,math,english,science\n",
      "['id', 'class', 'math', 'english', 'science']\n",
      "['1', '1', '50', '98', '50']\n",
      "['2', '1', '60', '97', '60']\n",
      "['3', '1', '45', '86', '78']\n",
      "['4', '1', '30', '98', '58']\n",
      "['5', '2', '25', '80', '65']\n",
      "['6', '2', '50', '89', '98']\n",
      "['7', '2', '80', '90', '45']\n",
      "['8', '2', '90', '78', '25']\n",
      "['9', '3', '20', '98', '15']\n",
      "['10', '3', '50', '98', '45']\n",
      "['11', '3', '65', '65', '65']\n",
      "['12', '3', '45', '85', '32']\n",
      "['13', '4', '46', '98', '65']\n",
      "['14', '4', '48', '87', '12']\n",
      "['15', '4', '75', '56', '78']\n",
      "['16', '4', '58', '98', '65']\n",
      "['17', '5', '65', '68', '98']\n",
      "['18', '5', '80', '78', '90']\n",
      "['19', '5', '89', '68', '87']\n",
      "['20', '5', '78', '83', '58']\n"
     ]
    }
   ],
   "source": [
    "# csv 모듈을 사용하지 않고 파이썬 문법만 사용한 코드_Old\n",
    "input_file = '../work03/dataset/csv_exam.csv'\n",
    "output_file = '../work03/dataset/csv_exam_output2.csv'\n",
    "\n",
    "with open(input_file, 'r', newline='') as reader:\n",
    "    with open(output_file, 'w', newline='') as writer:\n",
    "        header = reader.readline()\n",
    "        # print(header) # id, class, math, english, science\n",
    "        # strip() : 문자열 좌우의 공백, 탭, 개행문자 제거\n",
    "        header = header.strip()\n",
    "        print(header)\n",
    "        header_list = header.split(',')\n",
    "        print(header_list)\n",
    "        \n",
    "        writer.write(','.join(map(str, header_list))+'\\n')\n",
    "        for row in reader:\n",
    "            row = row.strip()\n",
    "            row_list = row.split(',')\n",
    "            print(row_list)\n",
    "            writer.write(','.join(map(str, row_list))+'\\n')"
   ]
  },
  {
   "cell_type": "code",
   "execution_count": null,
   "metadata": {},
   "outputs": [],
   "source": []
  }
 ],
 "metadata": {
  "kernelspec": {
   "display_name": "Python 3",
   "language": "python",
   "name": "python3"
  },
  "language_info": {
   "codemirror_mode": {
    "name": "ipython",
    "version": 3
   },
   "file_extension": ".py",
   "mimetype": "text/x-python",
   "name": "python",
   "nbconvert_exporter": "python",
   "pygments_lexer": "ipython3",
   "version": "3.6.5"
  }
 },
 "nbformat": 4,
 "nbformat_minor": 2
}
