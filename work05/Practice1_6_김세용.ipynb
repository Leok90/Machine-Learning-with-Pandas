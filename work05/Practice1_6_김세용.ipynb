{
 "cells": [
  {
   "cell_type": "code",
   "execution_count": 1,
   "metadata": {},
   "outputs": [],
   "source": [
    "# pandas를 이용하여 데이터 필터링2\n",
    "import pandas as pd\n",
    "import sys\n",
    "input_file = '../work03/dataset/csv_exam.csv'\n",
    "output_file = '../work03/dataset/output6.csv'\n",
    "df = pd.read_csv(input_file)\n",
    "\n",
    "# science의 값이 58, 90인 데이터\n",
    "dates = [58, 90]\n",
    "\n",
    "# isin() 포함 여부\n",
    "result = df.loc[df['science'].isin(dates), :]\n",
    "result.to_csv(output_file, index=False)"
   ]
  }
 ],
 "metadata": {
  "kernelspec": {
   "display_name": "Python 3",
   "language": "python",
   "name": "python3"
  },
  "language_info": {
   "codemirror_mode": {
    "name": "ipython",
    "version": 3
   },
   "file_extension": ".py",
   "mimetype": "text/x-python",
   "name": "python",
   "nbconvert_exporter": "python",
   "pygments_lexer": "ipython3",
   "version": "3.6.5"
  }
 },
 "nbformat": 4,
 "nbformat_minor": 2
}
