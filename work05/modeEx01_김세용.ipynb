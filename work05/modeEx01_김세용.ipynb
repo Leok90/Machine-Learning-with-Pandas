{
 "cells": [
  {
   "cell_type": "code",
   "execution_count": 2,
   "metadata": {},
   "outputs": [
    {
     "data": {
      "text/plain": [
       "ModeResult(mode=array([86]), count=array([3]))"
      ]
     },
     "execution_count": 2,
     "metadata": {},
     "output_type": "execute_result"
    }
   ],
   "source": [
    "from scipy import stats\n",
    "\n",
    "speed = [99,86,87,88,111,86,103,87,94,78,77,85,86]\n",
    "\n",
    "x = stats.mode(speed)\n",
    "x"
   ]
  },
  {
   "cell_type": "code",
   "execution_count": 3,
   "metadata": {},
   "outputs": [
    {
     "name": "stdout",
     "output_type": "stream",
     "text": [
      "99\n",
      "99\n",
      "86\n",
      "99\n",
      "86\n",
      "87\n",
      "99\n",
      "86\n",
      "87\n",
      "88\n",
      "99\n",
      "86\n",
      "87\n",
      "88\n",
      "111\n",
      "86\n",
      "86\n",
      "87\n",
      "86\n",
      "87\n",
      "86\n",
      "87\n",
      "86\n",
      "87\n"
     ]
    }
   ],
   "source": [
    "def uMode(speed):\n",
    "    dic = {}\n",
    "    for num in speed:\n",
    "        if num in dic:\n",
    "            dic[num] += 1\n",
    "        else:\n",
    "            dic[num] = 1\n",
    "            max_value = max(dic.values())\n",
    "            for idx, val in dic.items():\n",
    "                if val == max_value:\n",
    "                    print(idx)\n",
    "                else:\n",
    "                    pass\n",
    "uMode(speed)"
   ]
  }
 ],
 "metadata": {
  "kernelspec": {
   "display_name": "Python 3",
   "language": "python",
   "name": "python3"
  },
  "language_info": {
   "codemirror_mode": {
    "name": "ipython",
    "version": 3
   },
   "file_extension": ".py",
   "mimetype": "text/x-python",
   "name": "python",
   "nbconvert_exporter": "python",
   "pygments_lexer": "ipython3",
   "version": "3.6.5"
  }
 },
 "nbformat": 4,
 "nbformat_minor": 2
}
