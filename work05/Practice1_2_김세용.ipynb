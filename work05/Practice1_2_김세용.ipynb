{
 "cells": [
  {
   "cell_type": "code",
   "execution_count": 2,
   "metadata": {},
   "outputs": [
    {
     "name": "stdout",
     "output_type": "stream",
     "text": [
      "    id  class  math  english  science\n",
      "0    1      1    50       98       50\n",
      "1    2      1    60       97       60\n",
      "2    3      1    45       86       78\n",
      "3    4      1    30       98       58\n",
      "4    5      2    25       80       65\n",
      "5    6      2    50       89       98\n",
      "6    7      2    80       90       45\n",
      "7    8      2    90       78       25\n",
      "8    9      3    20       98       15\n",
      "9   10      3    50       98       45\n",
      "10  11      3    65       65       65\n",
      "11  12      3    45       85       32\n",
      "12  13      4    46       98       65\n",
      "13  14      4    48       87       12\n",
      "14  15      4    75       56       78\n",
      "15  16      4    58       98       65\n",
      "16  17      5    65       68       98\n",
      "17  18      5    80       78       90\n",
      "18  19      5    89       68       87\n",
      "19  20      5    78       83       58\n"
     ]
    }
   ],
   "source": [
    "# pandas를 이용한 csv 파일 읽기\n",
    "import sys\n",
    "import pandas as pd\n",
    "input_file = '../work03/dataset/csv_exam.csv'\n",
    "output_file = '../work03/dataset/output2.csv'\n",
    "\n",
    "# csv 파일을 읽어서 데이터프레임 형식으로 저장\n",
    "data_frame = pd.read_csv(input_file)\n",
    "print(data_frame)\n",
    "\n",
    "# 데이터프레임 데이터를 csv로 저장\n",
    "data_frame.to_csv(output_file, index=False)"
   ]
  }
 ],
 "metadata": {
  "kernelspec": {
   "display_name": "Python 3",
   "language": "python",
   "name": "python3"
  },
  "language_info": {
   "codemirror_mode": {
    "name": "ipython",
    "version": 3
   },
   "file_extension": ".py",
   "mimetype": "text/x-python",
   "name": "python",
   "nbconvert_exporter": "python",
   "pygments_lexer": "ipython3",
   "version": "3.6.5"
  }
 },
 "nbformat": 4,
 "nbformat_minor": 2
}
