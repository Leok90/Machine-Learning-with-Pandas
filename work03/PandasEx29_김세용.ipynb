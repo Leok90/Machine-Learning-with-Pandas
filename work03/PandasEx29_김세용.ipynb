{
 "cells": [
  {
   "cell_type": "code",
   "execution_count": 5,
   "metadata": {},
   "outputs": [
    {
     "name": "stdout",
     "output_type": "stream",
     "text": [
      "국어     NaN\n",
      "영어    80.0\n",
      "수학    90.0\n",
      "dtype: float64 \n",
      "\n",
      "수학    80\n",
      "국어    90\n",
      "dtype: int64 \n",
      "\n",
      "<class 'pandas.core.series.Series'> \n",
      "\n",
      "     국어        수학  영어\n",
      "덧셈  NaN   170.000 NaN\n",
      "뺄셈  NaN    10.000 NaN\n",
      "곱셈  NaN  7200.000 NaN\n",
      "나눗셈 NaN     1.125 NaN \n",
      "\n"
     ]
    }
   ],
   "source": [
    "# 라이브러리 불러오기\n",
    "import pandas as pd\n",
    "import numpy as np\n",
    "\n",
    "# 딕셔너리 데이터로 판다스 시리즈 만들기\n",
    "student1 = pd.Series({'국어':np.nan,'영어':80,'수학':90})\n",
    "student2 = pd.Series({'수학':80,'국어':90})\n",
    "\n",
    "print(student1, '\\n')\n",
    "print(student2, '\\n')\n",
    "\n",
    "# 두 학생의 과목별 점수로 사칙연산 수행\n",
    "addition = student1 + student2  # 덧셈\n",
    "subtraction = student1 - student2  # 뺄셈\n",
    "multiplication = student1 * student2  # 곱셈\n",
    "division = student1 / student2  # 나눗셈\n",
    "print(type(division), '\\n')\n",
    "\n",
    "# 사칙연산 결과를 데이터프레임으로 합치기(시리즈 -> 데이터프레임)\n",
    "result = pd.DataFrame([addition, subtraction, multiplication, division],\n",
    "                     index=['덧셈','뺄셈','곱셈','나눗셈'])\n",
    "print(result, '\\n')"
   ]
  }
 ],
 "metadata": {
  "kernelspec": {
   "display_name": "Python 3",
   "language": "python",
   "name": "python3"
  },
  "language_info": {
   "codemirror_mode": {
    "name": "ipython",
    "version": 3
   },
   "file_extension": ".py",
   "mimetype": "text/x-python",
   "name": "python",
   "nbconvert_exporter": "python",
   "pygments_lexer": "ipython3",
   "version": "3.6.5"
  }
 },
 "nbformat": 4,
 "nbformat_minor": 2
}
