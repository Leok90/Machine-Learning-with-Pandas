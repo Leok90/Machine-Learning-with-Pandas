{
 "cells": [
  {
   "cell_type": "code",
   "execution_count": 1,
   "metadata": {},
   "outputs": [],
   "source": [
    "# csv 모듈을 사용하지 않고 파이썬 문법만 사용한 코드\n",
    "input_file = 'C:/Python36/YWD/Jupyter_WS/work03/dataset/csv_exam.csv'\n",
    "output_file = 'C:/Python36/YWD/Jupyter_WS/work03/dataset/csv_exam_output.csv'"
   ]
  },
  {
   "cell_type": "code",
   "execution_count": 2,
   "metadata": {},
   "outputs": [
    {
     "name": "stdout",
     "output_type": "stream",
     "text": [
      "['id', 'class', 'math', 'english', 'science']\n",
      "['1', '1', '50', '98', '50']\n",
      "['2', '1', '60', '97', '60']\n",
      "['3', '1', '45', '86', '78']\n",
      "['4', '1', '30', '98', '58']\n",
      "['5', '2', '25', '80', '65']\n",
      "['6', '2', '50', '89', '98']\n",
      "['7', '2', '80', '90', '45']\n",
      "['8', '2', '90', '78', '25']\n",
      "['9', '3', '20', '98', '15']\n",
      "['10', '3', '50', '98', '45']\n",
      "['11', '3', '65', '65', '65']\n",
      "['12', '3', '45', '85', '32']\n",
      "['13', '4', '46', '98', '65']\n",
      "['14', '4', '48', '87', '12']\n",
      "['15', '4', '75', '56', '78']\n",
      "['16', '4', '58', '98', '65']\n",
      "['17', '5', '65', '68', '98']\n",
      "['18', '5', '80', '78', '90']\n",
      "['19', '5', '89', '68', '87']\n",
      "['20', '5', '78', '83', '58']\n"
     ]
    }
   ],
   "source": [
    "# newline='' 개행문자를 무시하고 읽음, 이 옵션이 없으면 빈 라인이 추가됨\n",
    "with open(input_file, 'r', newline='') as reader:\n",
    "    with open(output_file, 'w', newline='') as writer:\n",
    "        header = reader.readline()\n",
    "        \n",
    "        # strip(): 문자열 좌우의 공백, 탭, 개행문자 제거\n",
    "        header = header.strip()\n",
    "        header_list = header.split(',')\n",
    "        print(header_list)\n",
    "        \n",
    "        # header_list의 각 값 사이에 쉼표를 삽입하고 리스트를 문자열로 변환, 개행문자를 끝에 추가\n",
    "        # print(str)\n",
    "        # header_list의 각 요소를 스트링으로 변환\n",
    "        # header 행의 문자열\n",
    "        # print(','.join(map(str,header_list))+'\\n')\n",
    "        writer.write(','.join(map(str,header_list))+'\\n')\n",
    "        for row in reader:\n",
    "            row = row.strip()\n",
    "            row_list = row.split(',')\n",
    "            print(row_list)\n",
    "            writer.write(','.join(map(str,row_list))+'\\n')"
   ]
  }
 ],
 "metadata": {
  "kernelspec": {
   "display_name": "Python 3",
   "language": "python",
   "name": "python3"
  },
  "language_info": {
   "codemirror_mode": {
    "name": "ipython",
    "version": 3
   },
   "file_extension": ".py",
   "mimetype": "text/x-python",
   "name": "python",
   "nbconvert_exporter": "python",
   "pygments_lexer": "ipython3",
   "version": "3.6.5"
  }
 },
 "nbformat": 4,
 "nbformat_minor": 2
}
