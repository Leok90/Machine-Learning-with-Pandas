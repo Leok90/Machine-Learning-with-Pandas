{
 "cells": [
  {
   "cell_type": "code",
   "execution_count": 4,
   "metadata": {
    "scrolled": true
   },
   "outputs": [],
   "source": [
    "import pandas as pd\n",
    "\n",
    "df = pd.read_excel('../dataset/남북한발전전력량.xlsx') # 데이터프레임 변환\n",
    "# print(df, '\\n')\n",
    "df_ns = df.iloc[[0, 5], 3:]  # 남한, 북한 발전량 합계 데이터만 추출\n",
    "df_ns.index = ['South', 'North']  # 행 인덱스 변경\n",
    "df_ns.columns = df_ns.columns.map(int) # 열 이름의 자료형을 정수형으로 변경"
   ]
  },
  {
   "cell_type": "code",
   "execution_count": 3,
   "metadata": {},
   "outputs": [
    {
     "name": "stdout",
     "output_type": "stream",
     "text": [
      "     South North\n",
      "1991  1186   263\n",
      "1992  1310   247\n",
      "1993  1444   221\n",
      "1994  1650   231\n",
      "1995  1847   230 \n",
      "=======================>\n"
     ]
    },
    {
     "data": {
      "text/plain": [
       "<matplotlib.axes._subplots.AxesSubplot at 0x1d1fc5a69b0>"
      ]
     },
     "execution_count": 3,
     "metadata": {},
     "output_type": "execute_result"
    },
    {
     "data": {
      "image/png": "[encoded data removed]",
      "text/plain": [
       "<Figure size 432x288 with 1 Axes>"
      ]
     },
     "metadata": {},
     "output_type": "display_data"
    }
   ],
   "source": [
    "# 행 열 전치하여 다시 그리기\n",
    "tdf_ns = df_ns.T\n",
    "print(tdf_ns.head(), '\\n=======================>')\n",
    "tdf_ns.plot(kind='hist')"
   ]
  }
 ],
 "metadata": {
  "kernelspec": {
   "display_name": "Python 3",
   "language": "python",
   "name": "python3"
  },
  "language_info": {
   "codemirror_mode": {
    "name": "ipython",
    "version": 3
   },
   "file_extension": ".py",
   "mimetype": "text/x-python",
   "name": "python",
   "nbconvert_exporter": "python",
   "pygments_lexer": "ipython3",
   "version": "3.6.5"
  }
 },
 "nbformat": 4,
 "nbformat_minor": 2
}
