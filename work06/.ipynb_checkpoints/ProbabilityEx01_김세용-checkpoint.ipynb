{
 "cells": [
  {
   "cell_type": "code",
   "execution_count": 1,
   "metadata": {},
   "outputs": [
    {
     "name": "stdout",
     "output_type": "stream",
     "text": [
      "0.5\n"
     ]
    }
   ],
   "source": [
    "# 경우의 수 : 어떤 사건에 대하여 일어날 수 있는 모든 경우에 대한 가짓수\n",
    "# P(확률) = (사건 A가 일어나는 경우의 수) / (모든 경우의 수)\n",
    "# 주사위를 던졌을 때 짝수가 나올 확률\n",
    "def probability(space, event):\n",
    "    return len(event)/len(space)\n",
    "\n",
    "space = {1, 2, 3, 4, 5, 6}\n",
    "event = {2, 4, 6}\n",
    "\n",
    "result = probability(space, event)\n",
    "\n",
    "print(result)"
   ]
  }
 ],
 "metadata": {
  "kernelspec": {
   "display_name": "Python 3",
   "language": "python",
   "name": "python3"
  },
  "language_info": {
   "codemirror_mode": {
    "name": "ipython",
    "version": 3
   },
   "file_extension": ".py",
   "mimetype": "text/x-python",
   "name": "python",
   "nbconvert_exporter": "python",
   "pygments_lexer": "ipython3",
   "version": "3.6.5"
  }
 },
 "nbformat": 4,
 "nbformat_minor": 2
}
