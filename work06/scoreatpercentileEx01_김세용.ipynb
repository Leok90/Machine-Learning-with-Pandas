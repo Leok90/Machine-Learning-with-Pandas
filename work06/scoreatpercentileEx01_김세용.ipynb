{
 "cells": [
  {
   "cell_type": "code",
   "execution_count": 1,
   "metadata": {},
   "outputs": [
    {
     "name": "stdout",
     "output_type": "stream",
     "text": [
      "perT25 :  3.0\n",
      "perT50 :  5.0\n",
      "perT75 :  7.0\n"
     ]
    }
   ],
   "source": [
    "# 4분위 수\n",
    "import numpy as np\n",
    "from scipy import stats  \n",
    "\n",
    "fish_data_3 = np.array([1, 2, 3, 4, 5, 6, 7, 8, 9])\n",
    "\n",
    "\n",
    "perT25 = stats.scoreatpercentile(fish_data_3, 25)\n",
    "perT50 = stats.scoreatpercentile(fish_data_3, 50)\n",
    "perT75 = stats.scoreatpercentile(fish_data_3, 75)\n",
    "\n",
    "print(\"perT25 : \", perT25)\n",
    "print(\"perT50 : \", perT50)  # 중위값\n",
    "print(\"perT75 : \", perT75)"
   ]
  }
 ],
 "metadata": {
  "kernelspec": {
   "display_name": "Python 3",
   "language": "python",
   "name": "python3"
  },
  "language_info": {
   "codemirror_mode": {
    "name": "ipython",
    "version": 3
   },
   "file_extension": ".py",
   "mimetype": "text/x-python",
   "name": "python",
   "nbconvert_exporter": "python",
   "pygments_lexer": "ipython3",
   "version": "3.6.5"
  }
 },
 "nbformat": 4,
 "nbformat_minor": 2
}
