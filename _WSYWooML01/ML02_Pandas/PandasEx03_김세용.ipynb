{
 "cells": [
  {
   "cell_type": "code",
   "execution_count": 1,
   "metadata": {},
   "outputs": [
    {
     "name": "stdout",
     "output_type": "stream",
     "text": [
      "이름              영인\n",
      "생년월일    2010-05-01\n",
      "성별               여\n",
      "학생여부          True\n",
      "dtype: object \n",
      "\n",
      "영인 \n",
      "\n",
      "영인\n"
     ]
    }
   ],
   "source": [
    "import pandas as pd\n",
    "\n",
    "# 튜플을 시리즈로 변환(index 옵션에 인덱스 이름을 지정)\n",
    "tup_data = ('영인', '2010-05-01', '여', True)\n",
    "\n",
    "# sr = pd.Series(tup_data)\n",
    "sr = pd.Series(tup_data, index=['이름','생년월일','성별','학생여부'])\n",
    "\n",
    "print(sr, '\\n')\n",
    "\n",
    "# 원소를 1개 선택\n",
    "print(sr[0], '\\n')# sr의 1번째 원소를 선택(정수형 위치 인덱스를 활용)\n",
    "print(sr['이름'])# '이름' 라벨을 가진 원소를 선택(인덱스 이름을 활용)"
   ]
  }
 ],
 "metadata": {
  "kernelspec": {
   "display_name": "Python 3",
   "language": "python",
   "name": "python3"
  },
  "language_info": {
   "codemirror_mode": {
    "name": "ipython",
    "version": 3
   },
   "file_extension": ".py",
   "mimetype": "text/x-python",
   "name": "python",
   "nbconvert_exporter": "python",
   "pygments_lexer": "ipython3",
   "version": "3.6.5"
  }
 },
 "nbformat": 4,
 "nbformat_minor": 2
}
