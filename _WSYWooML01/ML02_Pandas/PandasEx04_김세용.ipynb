{
 "cells": [
  {
   "cell_type": "code",
   "execution_count": 4,
   "metadata": {},
   "outputs": [],
   "source": [
    "import pandas as pd\n",
    "\n",
    "# 튜플을 시리즈로 변환(index 옵션에 인덱스 이름을 지정)\n",
    "tup_data = ('영인', '2010-05-01', '여', True)\n",
    "\n",
    "# sr = pd.Series(tup_data)\n",
    "sr = pd.Series(tup_data, index=['이름','생년월일','성별','학생여부'])\n"
   ]
  },
  {
   "cell_type": "code",
   "execution_count": 5,
   "metadata": {},
   "outputs": [
    {
     "name": "stdout",
     "output_type": "stream",
     "text": [
      "생년월일    2010-05-01\n",
      "성별               여\n",
      "dtype: object \n",
      "\n",
      "생년월일    2010-05-01\n",
      "성별               여\n",
      "dtype: object \n",
      "\n",
      "생년월일    2010-05-01\n",
      "dtype: object \n",
      "\n",
      "생년월일    2010-05-01\n",
      "성별               여\n",
      "dtype: object\n"
     ]
    }
   ],
   "source": [
    "# 여러 개의 원소를 선택(인덱스 리스트 활용)\n",
    "print(sr[[1,2]], '\\n')\n",
    "print(sr[['생년월일', '성별']], '\\n')\n",
    "\n",
    "# 여러 개의 원소를 선택(인덱스 범위 지정)\n",
    "print(sr[1 : 2], '\\n')\n",
    "print(sr['생년월일' : '성별'])"
   ]
  }
 ],
 "metadata": {
  "kernelspec": {
   "display_name": "Python 3",
   "language": "python",
   "name": "python3"
  },
  "language_info": {
   "codemirror_mode": {
    "name": "ipython",
    "version": 3
   },
   "file_extension": ".py",
   "mimetype": "text/x-python",
   "name": "python",
   "nbconvert_exporter": "python",
   "pygments_lexer": "ipython3",
   "version": "3.6.5"
  }
 },
 "nbformat": 4,
 "nbformat_minor": 2
}
