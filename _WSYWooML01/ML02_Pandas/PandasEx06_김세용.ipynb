{
 "cells": [
  {
   "cell_type": "code",
   "execution_count": 2,
   "metadata": {},
   "outputs": [
    {
     "name": "stdout",
     "output_type": "stream",
     "text": [
      "    나이 성별   학교\n",
      "준서  15  남  덕영중\n",
      "예은  17  여  수리중 \n",
      "\n",
      "Index(['준서', '예은'], dtype='object') \n",
      "\n",
      "Index(['나이', '성별', '학교'], dtype='object') \n",
      "\n",
      "     연령 남녀   소속\n",
      "학생1  15  남  덕영중\n",
      "학생2  17  여  수리중 \n",
      "\n",
      "Index(['학생1', '학생2'], dtype='object') \n",
      "\n",
      "Index(['연령', '남녀', '소속'], dtype='object') \n",
      "\n"
     ]
    }
   ],
   "source": [
    "import pandas as pd\n",
    "\n",
    "# 행 인덱스/열 이름 지정하여, 데이터프레임 만들기\n",
    "df = pd.DataFrame([[15, '남', '덕영중'], [17, '여', '수리중']], \n",
    "                 index=['준서', '예은'],\n",
    "                 columns=['나이', '성별', '학교'])\n",
    "\n",
    "# 행 인덱스, 열 이름 확인하기\n",
    "print(df, '\\n') # 데이터프레임\n",
    "print(df.index, '\\n') # 행 인덱스\n",
    "print(df.columns, '\\n') # 열 이름\n",
    "\n",
    "# 행 인덱스, 열 이름 변경하기\n",
    "df.index=['학생1', '학생2']\n",
    "df.columns=['연령', '남녀', '소속']\n",
    "\n",
    "print(df, '\\n') # 데이터프레임\n",
    "print(df.index, '\\n') # 행 인덱스\n",
    "print(df.columns, '\\n') # 열 이름"
   ]
  }
 ],
 "metadata": {
  "kernelspec": {
   "display_name": "Python 3",
   "language": "python",
   "name": "python3"
  },
  "language_info": {
   "codemirror_mode": {
    "name": "ipython",
    "version": 3
   },
   "file_extension": ".py",
   "mimetype": "text/x-python",
   "name": "python",
   "nbconvert_exporter": "python",
   "pygments_lexer": "ipython3",
   "version": "3.6.5"
  }
 },
 "nbformat": 4,
 "nbformat_minor": 2
}
